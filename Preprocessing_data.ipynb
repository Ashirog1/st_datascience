{
  "cells": [
    {
      "cell_type": "code",
      "execution_count": 1,
      "metadata": {
        "colab": {
          "base_uri": "https://localhost:8080/",
          "height": 1000
        },
        "id": "RkVkAVUYok0E",
        "outputId": "2183a06c-0d88-40c7-ac4d-ee1db50ee9c6"
      },
      "outputs": [],
      "source": [
        "import re\n",
        "import json\n",
        "import os\n",
        "import pandas as pd\n",
        "import numpy as np\n",
        "import ast\n",
        "from joblib import dump, load\n",
        "import category_encoders as ce\n",
        "from sklearn.preprocessing import MultiLabelBinarizer\n",
        "# folder_path = \"data/\"\n",
        "\n",
        "# page_range = [i for i in range(1, 62)]\n",
        "# csv_files = [(\"page\" + str(i) + \".csv\") for i in page_range]\n",
        "# merged_data = pd.DataFrame()\n",
        "\n",
        "# patterns = [r\"&quot\", r\"\\\\u\", r\"\\\\\"]\n",
        "\n",
        "\n",
        "# bugged = []\n",
        "# dataset = []\n",
        "# for file in csv_files:\n",
        "#     file_path = os.path.join(folder_path, file)\n",
        "#     df = pd.read_csv(file_path)\n",
        "\n",
        "#     s = \"\"\n",
        "#     for col in df:\n",
        "\n",
        "#       pattern = r\"\\.\\d+$\"\n",
        "\n",
        "#       # Use the re.sub() function to replace the pattern with an empty string\n",
        "#       new_string = re.sub(pattern, \"\", col)\n",
        "\n",
        "#       # Print the updated string\n",
        "#       s += new_string + \",\"\n",
        "\n",
        "#     print(s)\n",
        "#     s = s[:-1]\n",
        "#     s = s.replace(\",, \", \"\\\", \\\"\")\n",
        "#     s = s.replace(\"\\'\\'\", \"\")\n",
        "#     lst = json.loads(s)\n",
        "#     for match in lst:\n",
        "#       print(match)\n",
        "\n",
        "#       data = {}\n",
        "#       for attr in match:\n",
        "#         if attr == \"price\":\n",
        "#           data[\"price\"] = match[\"price\"]\n",
        "#         else:\n",
        "#           get_dict = match[attr]\n",
        "#           for key in get_dict:\n",
        "#             data[key] = get_dict[key]\n",
        "\n",
        "#       dataset.append(data)\n",
        "\n",
        "# df = pd.DataFrame(dataset)\n",
        "# df.dropna(thresh=2, inplace=True)\n",
        "# for column in df.columns:\n",
        "#     null_percentage = df[column].isnull().mean()\n",
        "\n",
        "#     if null_percentage > 0.5:\n",
        "#         df.drop(column, axis=1, inplace=True)\n",
        "# for column in df.columns:\n",
        "#   print(column)\n",
        "# # df\n"
      ]
    },
    {
      "cell_type": "code",
      "execution_count": 2,
      "metadata": {},
      "outputs": [],
      "source": [
        "# df.to_csv(\"data.csv\", index = False)"
      ]
    },
    {
      "cell_type": "code",
      "execution_count": 3,
      "metadata": {},
      "outputs": [],
      "source": [
        "# df"
      ]
    },
    {
      "cell_type": "code",
      "execution_count": 4,
      "metadata": {},
      "outputs": [],
      "source": [
        "df = pd.read_csv(\"data.csv\")"
      ]
    },
    {
      "cell_type": "markdown",
      "metadata": {},
      "source": [
        "# Process Sim Card Quantity feature"
      ]
    },
    {
      "cell_type": "markdown",
      "metadata": {},
      "source": [
        "First we will check the values of SIM Card Quantity feature. After that we convert \n",
        "1. 2 SIM Card, 1 SIM Card -> 2 SIM Card\n",
        "2. 1 SIM Card, 2 SIM Card -> 2 SIM Card\n",
        "3. 1 SIM Card,1 eSIM -> 1 SIM Card+1 eSIM"
      ]
    },
    {
      "cell_type": "code",
      "execution_count": 5,
      "metadata": {},
      "outputs": [
        {
          "data": {
            "text/plain": [
              "array(['2 SIM Card', '1 SIM Card', '2 SIM Card,1 SIM Card',\n",
              "       '1 SIM Card+1 eSIM', '1 eSIM', '1 SIM Card,2 SIM Card',\n",
              "       '1 SIM Card,1 eSIM', '2 SIM Card,1 SIM Card+1 eSIM', '3 SIM Cards',\n",
              "       '2 SIM Card,1 eSIM', '＞3 SIM Cards', 'Single SIM Card'],\n",
              "      dtype=object)"
            ]
          },
          "execution_count": 5,
          "metadata": {},
          "output_type": "execute_result"
        }
      ],
      "source": [
        "df['SIM Card Quantity'].unique()"
      ]
    },
    {
      "cell_type": "code",
      "execution_count": 6,
      "metadata": {},
      "outputs": [],
      "source": [
        "df[\"SIM Card Quantity\"] = df[\"SIM Card Quantity\"].replace(\"2 SIM Card,1 SIM Card\", \"2 SIM Card\", regex=True)\n",
        "df[\"SIM Card Quantity\"] = df[\"SIM Card Quantity\"].replace(\"1 SIM Card,2 SIM Card\", \"2 SIM Card\", regex=True)\n",
        "df[\"SIM Card Quantity\"] = df[\"SIM Card Quantity\"].replace(\"1 SIM Card,1 eSIM\", \"1 SIM Card+1 eSIM\", regex=True)\n",
        "df[\"SIM Card Quantity\"] = df[\"SIM Card Quantity\"].replace(\"Single SIM Card\", \"1 SIM Card\", regex=True)\n",
        "df[\"SIM Card Quantity\"] = df[\"SIM Card Quantity\"].replace(\"＞3 SIM Cards\", \"4 SIM Card\", regex=True)"
      ]
    },
    {
      "cell_type": "code",
      "execution_count": 7,
      "metadata": {},
      "outputs": [
        {
          "data": {
            "text/plain": [
              "array(['2 SIM Card', '1 SIM Card', '1 SIM Card+1 eSIM', '1 eSIM',\n",
              "       '2 SIM Card+1 eSIM', '3 SIM Cards', '2 SIM Card,1 eSIM',\n",
              "       '4 SIM Card'], dtype=object)"
            ]
          },
          "execution_count": 7,
          "metadata": {},
          "output_type": "execute_result"
        }
      ],
      "source": [
        "df[\"SIM Card Quantity\"].unique()"
      ]
    },
    {
      "cell_type": "markdown",
      "metadata": {},
      "source": [
        "Then, we create 2 feature these are:\n",
        "1. num_sim_cards: how many sim cards this sample has\n",
        "2. has esim: does this sample support eSIM\n",
        "\n",
        "base on **SIM Card Quantity** feature"
      ]
    },
    {
      "cell_type": "code",
      "execution_count": 8,
      "metadata": {},
      "outputs": [],
      "source": [
        "def encode_sim_configuration(config):\n",
        "    # Extract the number of SIM cards using regular expression\n",
        "    num_sim_cards = sum(int(num) for num in re.findall(r'(\\d+) SIM Card', config))\n",
        "    \n",
        "    # Check for the presence of eSIM and assign a binary value\n",
        "    has_esim = 1 if 'eSIM' in config else 0\n",
        "    \n",
        "    return pd.Series([num_sim_cards, has_esim], index=['num_sim_cards', 'has_esim'])"
      ]
    },
    {
      "cell_type": "code",
      "execution_count": 9,
      "metadata": {},
      "outputs": [],
      "source": [
        "df[['num_sim_cards', 'has_esim']] = df['SIM Card Quantity'].apply(encode_sim_configuration)\n",
        "# df"
      ]
    },
    {
      "cell_type": "code",
      "execution_count": 10,
      "metadata": {},
      "outputs": [],
      "source": [
        "df = df.drop(columns = [\"SIM Card Quantity\"])"
      ]
    },
    {
      "cell_type": "code",
      "execution_count": 11,
      "metadata": {},
      "outputs": [],
      "source": [
        "# df"
      ]
    },
    {
      "cell_type": "markdown",
      "metadata": {},
      "source": [
        "# Process Operation system"
      ]
    },
    {
      "cell_type": "code",
      "execution_count": 12,
      "metadata": {},
      "outputs": [
        {
          "data": {
            "text/plain": [
              "Operation System\n",
              "Android                  2884\n",
              "IOS                       104\n",
              "Others                     41\n",
              "Other Smartphone OS        37\n",
              "HarmonyOS                  30\n",
              "MIUI 13                    15\n",
              "BlackBerry                 14\n",
              "Dumbphone OS                9\n",
              "MIUI 14                     7\n",
              "Symbian                     4\n",
              "Android,Android             2\n",
              "Android7                    1\n",
              "Android 12                  1\n",
              "Android12                   1\n",
              "Android 11                  1\n",
              "Blackberry,Blackberry       1\n",
              "Windows Mobile              1\n",
              "Name: count, dtype: int64"
            ]
          },
          "execution_count": 12,
          "metadata": {},
          "output_type": "execute_result"
        }
      ],
      "source": [
        "df['Operation System'].value_counts()"
      ]
    },
    {
      "cell_type": "markdown",
      "metadata": {},
      "source": [
        "If you want to group all non-Android operating system values into an 'Others' category, this is a common operation in data preprocessing, especially when dealing with categorical data that has a long-tail distribution. The idea is to consolidate the less frequent categories into a single 'Others' category to simplify your model and potentially improve its performance by reducing the sparsity of the data.\n"
      ]
    },
    {
      "cell_type": "code",
      "execution_count": 13,
      "metadata": {},
      "outputs": [],
      "source": [
        "# Replace all values not containing 'Android' with 'Others'\n",
        "df['Operation System'] = df['Operation System'].apply(lambda x: 'Others' if 'Android' not in x else x)"
      ]
    },
    {
      "cell_type": "code",
      "execution_count": 14,
      "metadata": {},
      "outputs": [],
      "source": [
        "df['Operation System'] = df['Operation System'].str.replace(r'.*Android.*', 'Android', regex=True)"
      ]
    },
    {
      "cell_type": "code",
      "execution_count": 15,
      "metadata": {},
      "outputs": [
        {
          "data": {
            "text/plain": [
              "Operation System\n",
              "Android    2890\n",
              "Others      263\n",
              "Name: count, dtype: int64"
            ]
          },
          "execution_count": 15,
          "metadata": {},
          "output_type": "execute_result"
        }
      ],
      "source": [
        "df[\"Operation System\"].value_counts()"
      ]
    },
    {
      "cell_type": "code",
      "execution_count": 16,
      "metadata": {},
      "outputs": [],
      "source": [
        "df['is_android_os'] = df['Operation System'].apply(lambda x: 1 if x == 'Android' else 0)\n",
        "df = df.drop(columns = [\"Operation System\"])"
      ]
    },
    {
      "cell_type": "markdown",
      "metadata": {},
      "source": [
        "# Process NFC"
      ]
    },
    {
      "cell_type": "code",
      "execution_count": 17,
      "metadata": {},
      "outputs": [
        {
          "data": {
            "text/plain": [
              "array(['YES', 'no', nan, 'YES(Support Google Pay)',\n",
              "       'Yes (Apple Pay only)', 'NO', 'No', 'Supports Google Pay',\n",
              "       'Support'], dtype=object)"
            ]
          },
          "execution_count": 17,
          "metadata": {},
          "output_type": "execute_result"
        }
      ],
      "source": [
        "df['NFC'].unique()"
      ]
    },
    {
      "cell_type": "markdown",
      "metadata": {},
      "source": [
        "To process the 'NFC' feature from the array of strings, we standardize the 'yes' and 'no' answers, handle the special cases ('Supports Google Pay', 'Yes (Apple Pay only)'), and deal with the 'nan' (missing values). Here is the step:\n",
        "1. **Standardize 'Yes' and 'No' Values**: Convert all variations of 'yes' and 'no' to a uniform format ('Yes' or 'No').\n",
        "2. **Handle Special Cases**: Decide how to handle 'Supports Google Pay', 'Yes (Apple Pay only)', etc. If the mere presence of NFC is what's important, you can treat these as 'Yes'.\n",
        "3. **Handle Missing Values**: Decide if you want to fill missing values with the most common value, a default value, or leave them as NaN if you plan to handle them with imputation later.\n"
      ]
    },
    {
      "cell_type": "code",
      "execution_count": 18,
      "metadata": {},
      "outputs": [],
      "source": [
        "yes_values = ['yes', 'yes(support google pay)', 'yes (apple pay only)', 'supports google pay', 'support']"
      ]
    },
    {
      "cell_type": "code",
      "execution_count": 19,
      "metadata": {},
      "outputs": [],
      "source": [
        "df['NFC'] = df['NFC'].str.lower().apply(lambda x: 'Yes' if str(x).strip().lower() in yes_values else x)"
      ]
    },
    {
      "cell_type": "code",
      "execution_count": 20,
      "metadata": {},
      "outputs": [],
      "source": [
        "df['NFC'] = df['NFC'].str.lower().replace(['no', 'no '], 'No')"
      ]
    },
    {
      "cell_type": "code",
      "execution_count": 21,
      "metadata": {},
      "outputs": [
        {
          "data": {
            "text/plain": [
              "NFC\n",
              "yes    1726\n",
              "No      954\n",
              "Name: count, dtype: int64"
            ]
          },
          "execution_count": 21,
          "metadata": {},
          "output_type": "execute_result"
        }
      ],
      "source": [
        "df[\"NFC\"].value_counts()"
      ]
    },
    {
      "cell_type": "code",
      "execution_count": 22,
      "metadata": {},
      "outputs": [
        {
          "data": {
            "text/plain": [
              "0       yes\n",
              "1        No\n",
              "2        No\n",
              "3       NaN\n",
              "4       yes\n",
              "       ... \n",
              "3148    yes\n",
              "3149    yes\n",
              "3150    yes\n",
              "3151    yes\n",
              "3152    yes\n",
              "Name: NFC, Length: 3153, dtype: object"
            ]
          },
          "execution_count": 22,
          "metadata": {},
          "output_type": "execute_result"
        }
      ],
      "source": [
        "df[\"NFC\"]"
      ]
    },
    {
      "cell_type": "markdown",
      "metadata": {},
      "source": [
        "# Process Item condition"
      ]
    },
    {
      "cell_type": "code",
      "execution_count": 23,
      "metadata": {},
      "outputs": [
        {
          "data": {
            "text/plain": [
              "array(['New', 'Used', 'Refurbished'], dtype=object)"
            ]
          },
          "execution_count": 23,
          "metadata": {},
          "output_type": "execute_result"
        }
      ],
      "source": [
        "df['Item Condition'].unique()"
      ]
    },
    {
      "cell_type": "markdown",
      "metadata": {},
      "source": [
        "For the 'Item Condition' feature with values 'New', 'Used', and 'Refurbished', we process it by encoding these categories into numerical values. Since these categories have an inherent order (condition quality), ordinal encoding would be the appropriate method to use here. Here is the step to do:\n",
        "1. **Ordinal Encoding**: Assign each condition a unique integer based on its quality. For instance, 'New' could be 3, 'Refurbished' could be 2, and 'Used' could be 1.\n",
        "2. **Use a Mapping**: Create a dictionary that maps each textual category to its corresponding numerical value."
      ]
    },
    {
      "cell_type": "code",
      "execution_count": 24,
      "metadata": {},
      "outputs": [],
      "source": [
        "condition_mapping = {\n",
        "    'New': 3,\n",
        "    'Refurbished': 2,\n",
        "    'Used': 1\n",
        "}"
      ]
    },
    {
      "cell_type": "code",
      "execution_count": 25,
      "metadata": {},
      "outputs": [],
      "source": [
        "df['Item Condition'] = df['Item Condition'].map(condition_mapping)"
      ]
    },
    {
      "cell_type": "code",
      "execution_count": 26,
      "metadata": {},
      "outputs": [
        {
          "data": {
            "text/plain": [
              "array([3, 1, 2], dtype=int64)"
            ]
          },
          "execution_count": 26,
          "metadata": {},
          "output_type": "execute_result"
        }
      ],
      "source": [
        "df['Item Condition'].unique()"
      ]
    },
    {
      "cell_type": "markdown",
      "metadata": {},
      "source": [
        "# Process Biometrics Technology"
      ]
    },
    {
      "cell_type": "code",
      "execution_count": 27,
      "metadata": {},
      "outputs": [
        {
          "data": {
            "text/plain": [
              "array(['Fingerprint Recognition,Face Recognition',\n",
              "       'Side-mounted,Face Recognition',\n",
              "       'Side-mounted,Fingerprint Recognition,Face Recognition',\n",
              "       'Fingerprint Recognition,Face Recognition,Rear-mounted',\n",
              "       'Face Recognition', 'Fingerprint Recognition', 'Side-mounted',\n",
              "       'no', 'In-Screen Fingerprint Recognition,Face Recognition',\n",
              "       'Rear-mounted', 'Side-mounted,Fingerprint Recognition',\n",
              "       'In-Screen Fingerprint Recognition',\n",
              "       'In-Screen Fingerprint Recognition,Fingerprint Recognition,Face Recognition',\n",
              "       'Fingerprint Recognition,Front-mounted',\n",
              "       'Fingerprint Recognition,Rear-mounted',\n",
              "       'Face Recognition,Rear-mounted',\n",
              "       'Face Recognition,Fingerprint Recognition',\n",
              "       'Side-mounted,Front-mounted',\n",
              "       'Face Recognition,In-Screen Fingerprint Recognition',\n",
              "       'Fingerprint Recognition,Face Recognition,In-Screen Fingerprint Recognition',\n",
              "       'Iris Recognition,Fingerprint Recognition,Face Recognition',\n",
              "       'Fingerprint Recognition,Face Recognition,Side-mounted',\n",
              "       'Front-mounted',\n",
              "       'In-Screen Fingerprint Recognition,Fingerprint Recognition',\n",
              "       'Rear-mounted,Front-mounted', 'Face Recognition,Side-mounted',\n",
              "       'Fingerprint Recognition,Face Recognition,Front-mounted',\n",
              "       'In-Screen Fingerprint Recognition,Face Recognition,Fingerprint Recognition',\n",
              "       'Iris Recognition,Face Recognition',\n",
              "       'Iris Recognition,Fingerprint Recognition', 'Iris Recognition',\n",
              "       'Side-mounted,no',\n",
              "       'In-Screen Fingerprint Recognition,Fingerprint Recognition,Face Recognition,Front-mounted',\n",
              "       'Face Recognition,Front-mounted'], dtype=object)"
            ]
          },
          "execution_count": 27,
          "metadata": {},
          "output_type": "execute_result"
        }
      ],
      "source": [
        "df['Biometrics Technology'].unique()"
      ]
    },
    {
      "cell_type": "markdown",
      "metadata": {},
      "source": [
        "For the 'Biometrics Technology' feature with multiple biometric methods listed in each entry, we can process this data by creating binary features for each unique method. This is a common technique known as one-hot encoding, where each unique value/category becomes a feature that is marked as 1 if the record has that category and 0 otherwise. Here's a step-by-step process to handle this:\n",
        "1. **Identify Unique Methods**: First, we need to extract all unique biometric methods from the data.\n",
        "2. **Create Binary Features**: For each unique biometric method, create a new binary feature in DataFrame that indicates the presence or absence of that method.\n",
        "3. **Populate the Features**: Go through each record and set the corresponding binary feature to 1 if the method is present in that record."
      ]
    },
    {
      "cell_type": "code",
      "execution_count": 28,
      "metadata": {},
      "outputs": [],
      "source": [
        "biometric_methods = set()\n",
        "for entry in df['Biometrics Technology']:\n",
        "    methods = entry.split(',')\n",
        "    biometric_methods.update(methods)"
      ]
    },
    {
      "cell_type": "code",
      "execution_count": 29,
      "metadata": {},
      "outputs": [
        {
          "data": {
            "text/plain": [
              "{'Face Recognition',\n",
              " 'Fingerprint Recognition',\n",
              " 'Front-mounted',\n",
              " 'In-Screen Fingerprint Recognition',\n",
              " 'Iris Recognition',\n",
              " 'Rear-mounted',\n",
              " 'Side-mounted',\n",
              " 'no'}"
            ]
          },
          "execution_count": 29,
          "metadata": {},
          "output_type": "execute_result"
        }
      ],
      "source": [
        "biometric_methods"
      ]
    },
    {
      "cell_type": "code",
      "execution_count": 30,
      "metadata": {},
      "outputs": [],
      "source": [
        "# Remove 'no' from the set of biometric methods if it exists\n",
        "biometric_methods.discard('no')"
      ]
    },
    {
      "cell_type": "code",
      "execution_count": 31,
      "metadata": {},
      "outputs": [],
      "source": [
        "for method in biometric_methods:\n",
        "    df[method] = df['Biometrics Technology'].str.contains(method).astype(int)"
      ]
    },
    {
      "cell_type": "code",
      "execution_count": 32,
      "metadata": {},
      "outputs": [],
      "source": [
        "df.drop(columns = \"Biometrics Technology\", inplace = True)"
      ]
    },
    {
      "cell_type": "markdown",
      "metadata": {},
      "source": [
        "# Process Design"
      ]
    },
    {
      "cell_type": "code",
      "execution_count": 33,
      "metadata": {},
      "outputs": [
        {
          "data": {
            "text/plain": [
              "Design\n",
              "BAR              2765\n",
              "Flip              347\n",
              "SLIDER             13\n",
              "Watch               7\n",
              "BAR,BAR             7\n",
              "Rotatable           6\n",
              "Flip,BAR            2\n",
              "Watch,BAR           2\n",
              "Flip,Watch          2\n",
              "Rotatable,BAR       1\n",
              "SLIDER,BAR          1\n",
              "Name: count, dtype: int64"
            ]
          },
          "execution_count": 33,
          "metadata": {},
          "output_type": "execute_result"
        }
      ],
      "source": [
        "df[\"Design\"].value_counts()"
      ]
    },
    {
      "cell_type": "markdown",
      "metadata": {},
      "source": [
        "The 'Design' column contains multiple design types for some samples, including combinations like 'SLIDER,BAR'. To process this for a machine learning model, we use one-hot encoding to create binary features for each design type. For samples with multiple design types, we will have 1's in multiple columns.\n",
        "Here's an approach we take using Python and pandas:\n",
        "1. Split the design types into lists.\n",
        "2. Use MultiLabelBinarizer from the scikit-learn library to perform one-hot encoding on these lists.\n"
      ]
    },
    {
      "cell_type": "code",
      "execution_count": 34,
      "metadata": {},
      "outputs": [],
      "source": [
        "df['Design'] = df['Design'].apply(lambda x: x.split(','))\n",
        "\n",
        "# Initialize the MultiLabelBinarizer\n",
        "mlb = MultiLabelBinarizer()\n",
        "\n",
        "# Perform one-hot encoding\n",
        "design_encoded = mlb.fit_transform(df['Design'])\n",
        "dump(mlb, 'Design.joblib')\n",
        "# Create a DataFrame from the encoded design types\n",
        "design_df = pd.DataFrame(design_encoded, columns=mlb.classes_)\n",
        "\n",
        "# Concatenate the new DataFrame to the original DataFrame\n",
        "df = pd.concat([df, design_df], axis=1)\n"
      ]
    },
    {
      "cell_type": "code",
      "execution_count": 35,
      "metadata": {},
      "outputs": [],
      "source": [
        "df.drop('Design', axis=1, inplace=True)"
      ]
    },
    {
      "cell_type": "code",
      "execution_count": 36,
      "metadata": {},
      "outputs": [],
      "source": [
        "# df"
      ]
    },
    {
      "cell_type": "markdown",
      "metadata": {},
      "source": [
        "# Process price"
      ]
    },
    {
      "cell_type": "code",
      "execution_count": 37,
      "metadata": {},
      "outputs": [
        {
          "data": {
            "text/plain": [
              "0       ₫6,566,240\n",
              "1       ₫4,979,375\n",
              "2       ₫7,224,031\n",
              "3       ₫6,729,594\n",
              "4       ₫9,269,357\n",
              "           ...    \n",
              "3148       $220.00\n",
              "3149       $275.99\n",
              "3150       $608.96\n",
              "3151       $216.00\n",
              "3152     $1,069.00\n",
              "Name: price, Length: 3153, dtype: object"
            ]
          },
          "execution_count": 37,
          "metadata": {},
          "output_type": "execute_result"
        }
      ],
      "source": [
        "df['price']"
      ]
    },
    {
      "cell_type": "markdown",
      "metadata": {},
      "source": [
        "The 'price' feature contains currency values with currency symbols and commas, which need to be converted into a numerical format for machine learning models. Here's a step-by-step on how to process this column:\n",
        "1. **Remove Currency Symbols**: Strip out any currency symbols (like $, €, etc.) since they are non-numeric and the model can't process them.\n",
        "2. **Remove Commas**: Remove any commas used as thousand separators.\n",
        "3. **Convert to Numeric Type**: Convert the cleaned strings to a numeric dtype (float or int)."
      ]
    },
    {
      "cell_type": "code",
      "execution_count": 38,
      "metadata": {},
      "outputs": [],
      "source": [
        "exchange_rate = 23000  # Example rate: 1 USD = 23,000 VND\n",
        "\n",
        "# Function to process the price data\n",
        "def process_price(price):\n",
        "    # Remove currency symbols and commas\n",
        "    price = price.replace('₫', '').replace('$', '').replace(',', '')\n",
        "    \n",
        "    # Check if it's a range\n",
        "    if '-' in price:\n",
        "        lower, upper = price.split('-')\n",
        "        # Take the average of the lower and upper range\n",
        "        return (float(lower.strip()) + float(upper.strip())) / 2\n",
        "    else:\n",
        "        return float(price)\n",
        "\n",
        "# Apply the conversion to each price\n",
        "df['price_processed'] = df['price'].apply(process_price)\n",
        "\n",
        "# Convert USD to VND if needed\n",
        "df['price_vnd'] = df.apply(lambda row: row['price_processed'] * exchange_rate \n",
        "                           if '$' in row['price'] else row['price_processed'], axis=1)\n",
        "\n",
        "# Convert to integer to remove decimals\n",
        "df['price_vnd'] = df['price_vnd'].astype(int)"
      ]
    },
    {
      "cell_type": "code",
      "execution_count": 39,
      "metadata": {},
      "outputs": [],
      "source": [
        "df.drop(columns = \"price\", inplace = True)"
      ]
    },
    {
      "cell_type": "code",
      "execution_count": 40,
      "metadata": {},
      "outputs": [],
      "source": [
        "df.drop(columns = \"price_processed\", inplace = True)"
      ]
    },
    {
      "cell_type": "code",
      "execution_count": 41,
      "metadata": {},
      "outputs": [],
      "source": [
        "# df"
      ]
    },
    {
      "cell_type": "markdown",
      "metadata": {},
      "source": [
        "# Process Screen Material"
      ]
    },
    {
      "cell_type": "code",
      "execution_count": 42,
      "metadata": {},
      "outputs": [],
      "source": [
        "material_scores = {\n",
        "    'AMOLED': 5,\n",
        "    'Super AMOLED': 5,\n",
        "    'IPS': 4,\n",
        "    'OLED': 3,\n",
        "    'SLCD': 2,\n",
        "    'TFT': 1,\n",
        "    'LCD': 1,\n",
        "    'Other': 0\n",
        "}\n",
        "\n",
        "# Apply the scoring system to the 'Screen Material' column\n",
        "df['Material Score'] = df['Screen Material'].map(material_scores)"
      ]
    },
    {
      "cell_type": "code",
      "execution_count": 43,
      "metadata": {},
      "outputs": [],
      "source": [
        "df.drop(columns = \"Screen Material\", inplace = True)"
      ]
    },
    {
      "cell_type": "code",
      "execution_count": 44,
      "metadata": {},
      "outputs": [
        {
          "data": {
            "text/html": [
              "<div>\n",
              "<style scoped>\n",
              "    .dataframe tbody tr th:only-of-type {\n",
              "        vertical-align: middle;\n",
              "    }\n",
              "\n",
              "    .dataframe tbody tr th {\n",
              "        vertical-align: top;\n",
              "    }\n",
              "\n",
              "    .dataframe thead th {\n",
              "        text-align: right;\n",
              "    }\n",
              "</style>\n",
              "<table border=\"1\" class=\"dataframe\">\n",
              "  <thead>\n",
              "    <tr style=\"text-align: right;\">\n",
              "      <th></th>\n",
              "      <th>Brand Name</th>\n",
              "      <th>Display Size</th>\n",
              "      <th>Display Resolution</th>\n",
              "      <th>Touch Screen</th>\n",
              "      <th>Screen Type</th>\n",
              "      <th>Rear Camera Quantity</th>\n",
              "      <th>Front Camera Quantity</th>\n",
              "      <th>Rear Camera Pixel</th>\n",
              "      <th>Front Camera Pixel</th>\n",
              "      <th>Battery Capacity(mAh)</th>\n",
              "      <th>...</th>\n",
              "      <th>Side-mounted</th>\n",
              "      <th>Face Recognition</th>\n",
              "      <th>Rear-mounted</th>\n",
              "      <th>BAR</th>\n",
              "      <th>Flip</th>\n",
              "      <th>Rotatable</th>\n",
              "      <th>SLIDER</th>\n",
              "      <th>Watch</th>\n",
              "      <th>price_vnd</th>\n",
              "      <th>Material Score</th>\n",
              "    </tr>\n",
              "  </thead>\n",
              "  <tbody>\n",
              "    <tr>\n",
              "      <th>0</th>\n",
              "      <td>TECNO</td>\n",
              "      <td>6.6‘’</td>\n",
              "      <td>1560x720</td>\n",
              "      <td>Yes</td>\n",
              "      <td>Other</td>\n",
              "      <td>2</td>\n",
              "      <td>1</td>\n",
              "      <td>13MP</td>\n",
              "      <td>5mp</td>\n",
              "      <td>5000mAh</td>\n",
              "      <td>...</td>\n",
              "      <td>0</td>\n",
              "      <td>1</td>\n",
              "      <td>0</td>\n",
              "      <td>1</td>\n",
              "      <td>0</td>\n",
              "      <td>0</td>\n",
              "      <td>0</td>\n",
              "      <td>0</td>\n",
              "      <td>6566240</td>\n",
              "      <td>NaN</td>\n",
              "    </tr>\n",
              "    <tr>\n",
              "      <th>1</th>\n",
              "      <td>FreeYond</td>\n",
              "      <td>6.52\"</td>\n",
              "      <td>1600x720</td>\n",
              "      <td>Yes</td>\n",
              "      <td>Water Drop Screen</td>\n",
              "      <td>2</td>\n",
              "      <td>1</td>\n",
              "      <td>13MP</td>\n",
              "      <td>8MP</td>\n",
              "      <td>5000</td>\n",
              "      <td>...</td>\n",
              "      <td>1</td>\n",
              "      <td>1</td>\n",
              "      <td>0</td>\n",
              "      <td>1</td>\n",
              "      <td>0</td>\n",
              "      <td>0</td>\n",
              "      <td>0</td>\n",
              "      <td>0</td>\n",
              "      <td>4979375</td>\n",
              "      <td>1.0</td>\n",
              "    </tr>\n",
              "    <tr>\n",
              "      <th>2</th>\n",
              "      <td>FreeYond</td>\n",
              "      <td>6.52\"</td>\n",
              "      <td>1600x720</td>\n",
              "      <td>Yes</td>\n",
              "      <td>Water Drop Screen</td>\n",
              "      <td>3</td>\n",
              "      <td>1</td>\n",
              "      <td>50MP,2MP,8MP</td>\n",
              "      <td>8MP</td>\n",
              "      <td>5000</td>\n",
              "      <td>...</td>\n",
              "      <td>1</td>\n",
              "      <td>1</td>\n",
              "      <td>0</td>\n",
              "      <td>1</td>\n",
              "      <td>0</td>\n",
              "      <td>0</td>\n",
              "      <td>0</td>\n",
              "      <td>0</td>\n",
              "      <td>7224031</td>\n",
              "      <td>4.0</td>\n",
              "    </tr>\n",
              "    <tr>\n",
              "      <th>3</th>\n",
              "      <td>Infinix</td>\n",
              "      <td>6.6‘’</td>\n",
              "      <td>1612x720</td>\n",
              "      <td>Yes</td>\n",
              "      <td>Water Drop Screen</td>\n",
              "      <td>2</td>\n",
              "      <td>1</td>\n",
              "      <td>13MP</td>\n",
              "      <td>5mp</td>\n",
              "      <td>5000</td>\n",
              "      <td>...</td>\n",
              "      <td>0</td>\n",
              "      <td>1</td>\n",
              "      <td>1</td>\n",
              "      <td>1</td>\n",
              "      <td>0</td>\n",
              "      <td>0</td>\n",
              "      <td>0</td>\n",
              "      <td>0</td>\n",
              "      <td>6729594</td>\n",
              "      <td>NaN</td>\n",
              "    </tr>\n",
              "    <tr>\n",
              "      <th>4</th>\n",
              "      <td>TECNO</td>\n",
              "      <td>6.6</td>\n",
              "      <td>1612x720</td>\n",
              "      <td>Yes</td>\n",
              "      <td>Water Drop Screen</td>\n",
              "      <td>2</td>\n",
              "      <td>1</td>\n",
              "      <td>50MP</td>\n",
              "      <td>8MP</td>\n",
              "      <td>5000</td>\n",
              "      <td>...</td>\n",
              "      <td>0</td>\n",
              "      <td>1</td>\n",
              "      <td>0</td>\n",
              "      <td>1</td>\n",
              "      <td>0</td>\n",
              "      <td>0</td>\n",
              "      <td>0</td>\n",
              "      <td>0</td>\n",
              "      <td>9269357</td>\n",
              "      <td>NaN</td>\n",
              "    </tr>\n",
              "    <tr>\n",
              "      <th>...</th>\n",
              "      <td>...</td>\n",
              "      <td>...</td>\n",
              "      <td>...</td>\n",
              "      <td>...</td>\n",
              "      <td>...</td>\n",
              "      <td>...</td>\n",
              "      <td>...</td>\n",
              "      <td>...</td>\n",
              "      <td>...</td>\n",
              "      <td>...</td>\n",
              "      <td>...</td>\n",
              "      <td>...</td>\n",
              "      <td>...</td>\n",
              "      <td>...</td>\n",
              "      <td>...</td>\n",
              "      <td>...</td>\n",
              "      <td>...</td>\n",
              "      <td>...</td>\n",
              "      <td>...</td>\n",
              "      <td>...</td>\n",
              "      <td>...</td>\n",
              "    </tr>\n",
              "    <tr>\n",
              "      <th>3148</th>\n",
              "      <td>MIUI</td>\n",
              "      <td>6.67</td>\n",
              "      <td>2400x1080</td>\n",
              "      <td>Yes</td>\n",
              "      <td>Fullview Display</td>\n",
              "      <td>3</td>\n",
              "      <td>1</td>\n",
              "      <td>≈108MP</td>\n",
              "      <td>16MP</td>\n",
              "      <td>5160</td>\n",
              "      <td>...</td>\n",
              "      <td>1</td>\n",
              "      <td>1</td>\n",
              "      <td>0</td>\n",
              "      <td>1</td>\n",
              "      <td>0</td>\n",
              "      <td>0</td>\n",
              "      <td>0</td>\n",
              "      <td>0</td>\n",
              "      <td>5060000</td>\n",
              "      <td>5.0</td>\n",
              "    </tr>\n",
              "    <tr>\n",
              "      <th>3149</th>\n",
              "      <td>BLACKVIEW</td>\n",
              "      <td>4.3 inch</td>\n",
              "      <td>1200 x 540</td>\n",
              "      <td>Yes</td>\n",
              "      <td>Normal Screen</td>\n",
              "      <td>2</td>\n",
              "      <td>1</td>\n",
              "      <td>48Mp</td>\n",
              "      <td>16MP</td>\n",
              "      <td>3600mAh</td>\n",
              "      <td>...</td>\n",
              "      <td>0</td>\n",
              "      <td>0</td>\n",
              "      <td>0</td>\n",
              "      <td>1</td>\n",
              "      <td>0</td>\n",
              "      <td>0</td>\n",
              "      <td>0</td>\n",
              "      <td>0</td>\n",
              "      <td>6347770</td>\n",
              "      <td>4.0</td>\n",
              "    </tr>\n",
              "    <tr>\n",
              "      <th>3150</th>\n",
              "      <td>HONOR</td>\n",
              "      <td>6.</td>\n",
              "      <td>2700x1224</td>\n",
              "      <td>Yes</td>\n",
              "      <td>Curved Screen</td>\n",
              "      <td>3</td>\n",
              "      <td>2</td>\n",
              "      <td>200MP</td>\n",
              "      <td>50MP</td>\n",
              "      <td>5000</td>\n",
              "      <td>...</td>\n",
              "      <td>0</td>\n",
              "      <td>1</td>\n",
              "      <td>0</td>\n",
              "      <td>1</td>\n",
              "      <td>0</td>\n",
              "      <td>0</td>\n",
              "      <td>0</td>\n",
              "      <td>0</td>\n",
              "      <td>14006080</td>\n",
              "      <td>5.0</td>\n",
              "    </tr>\n",
              "    <tr>\n",
              "      <th>3151</th>\n",
              "      <td>MIUI</td>\n",
              "      <td>6.67</td>\n",
              "      <td>2400x1080</td>\n",
              "      <td>Yes</td>\n",
              "      <td>Fullview Display</td>\n",
              "      <td>3</td>\n",
              "      <td>1</td>\n",
              "      <td>≈108MP</td>\n",
              "      <td>16MP</td>\n",
              "      <td>4500</td>\n",
              "      <td>...</td>\n",
              "      <td>1</td>\n",
              "      <td>1</td>\n",
              "      <td>0</td>\n",
              "      <td>1</td>\n",
              "      <td>0</td>\n",
              "      <td>0</td>\n",
              "      <td>0</td>\n",
              "      <td>0</td>\n",
              "      <td>4968000</td>\n",
              "      <td>5.0</td>\n",
              "    </tr>\n",
              "    <tr>\n",
              "      <th>3152</th>\n",
              "      <td>OPPO</td>\n",
              "      <td>7.12</td>\n",
              "      <td>2532x1170</td>\n",
              "      <td>Yes</td>\n",
              "      <td>Full Screen</td>\n",
              "      <td>3</td>\n",
              "      <td>1</td>\n",
              "      <td>50MP</td>\n",
              "      <td>32MP</td>\n",
              "      <td>4500</td>\n",
              "      <td>...</td>\n",
              "      <td>0</td>\n",
              "      <td>1</td>\n",
              "      <td>0</td>\n",
              "      <td>1</td>\n",
              "      <td>0</td>\n",
              "      <td>0</td>\n",
              "      <td>0</td>\n",
              "      <td>0</td>\n",
              "      <td>24587000</td>\n",
              "      <td>5.0</td>\n",
              "    </tr>\n",
              "  </tbody>\n",
              "</table>\n",
              "<p>3153 rows × 42 columns</p>\n",
              "</div>"
            ],
            "text/plain": [
              "     Brand Name Display Size Display Resolution Touch Screen  \\\n",
              "0         TECNO        6.6‘’           1560x720          Yes   \n",
              "1      FreeYond        6.52\"           1600x720          Yes   \n",
              "2      FreeYond        6.52\"           1600x720          Yes   \n",
              "3       Infinix        6.6‘’           1612x720          Yes   \n",
              "4         TECNO          6.6           1612x720          Yes   \n",
              "...         ...          ...                ...          ...   \n",
              "3148       MIUI         6.67          2400x1080          Yes   \n",
              "3149  BLACKVIEW     4.3 inch         1200 x 540          Yes   \n",
              "3150      HONOR           6.          2700x1224          Yes   \n",
              "3151       MIUI         6.67          2400x1080          Yes   \n",
              "3152       OPPO         7.12          2532x1170          Yes   \n",
              "\n",
              "            Screen Type Rear Camera Quantity Front Camera Quantity  \\\n",
              "0                 Other                    2                     1   \n",
              "1     Water Drop Screen                    2                     1   \n",
              "2     Water Drop Screen                    3                     1   \n",
              "3     Water Drop Screen                    2                     1   \n",
              "4     Water Drop Screen                    2                     1   \n",
              "...                 ...                  ...                   ...   \n",
              "3148   Fullview Display                    3                     1   \n",
              "3149      Normal Screen                    2                     1   \n",
              "3150      Curved Screen                    3                     2   \n",
              "3151   Fullview Display                    3                     1   \n",
              "3152        Full Screen                    3                     1   \n",
              "\n",
              "     Rear Camera Pixel Front Camera Pixel Battery Capacity(mAh)  ...  \\\n",
              "0                 13MP                5mp               5000mAh  ...   \n",
              "1                 13MP                8MP                  5000  ...   \n",
              "2         50MP,2MP,8MP                8MP                  5000  ...   \n",
              "3                 13MP                5mp                  5000  ...   \n",
              "4                 50MP                8MP                  5000  ...   \n",
              "...                ...                ...                   ...  ...   \n",
              "3148            ≈108MP               16MP                  5160  ...   \n",
              "3149              48Mp               16MP               3600mAh  ...   \n",
              "3150             200MP               50MP                  5000  ...   \n",
              "3151            ≈108MP               16MP                  4500  ...   \n",
              "3152              50MP               32MP                  4500  ...   \n",
              "\n",
              "     Side-mounted Face Recognition Rear-mounted BAR Flip Rotatable SLIDER  \\\n",
              "0               0                1            0   1    0         0      0   \n",
              "1               1                1            0   1    0         0      0   \n",
              "2               1                1            0   1    0         0      0   \n",
              "3               0                1            1   1    0         0      0   \n",
              "4               0                1            0   1    0         0      0   \n",
              "...           ...              ...          ...  ..  ...       ...    ...   \n",
              "3148            1                1            0   1    0         0      0   \n",
              "3149            0                0            0   1    0         0      0   \n",
              "3150            0                1            0   1    0         0      0   \n",
              "3151            1                1            0   1    0         0      0   \n",
              "3152            0                1            0   1    0         0      0   \n",
              "\n",
              "      Watch price_vnd Material Score  \n",
              "0         0   6566240            NaN  \n",
              "1         0   4979375            1.0  \n",
              "2         0   7224031            4.0  \n",
              "3         0   6729594            NaN  \n",
              "4         0   9269357            NaN  \n",
              "...     ...       ...            ...  \n",
              "3148      0   5060000            5.0  \n",
              "3149      0   6347770            4.0  \n",
              "3150      0  14006080            5.0  \n",
              "3151      0   4968000            5.0  \n",
              "3152      0  24587000            5.0  \n",
              "\n",
              "[3153 rows x 42 columns]"
            ]
          },
          "execution_count": 44,
          "metadata": {},
          "output_type": "execute_result"
        }
      ],
      "source": [
        "df"
      ]
    },
    {
      "cell_type": "markdown",
      "metadata": {},
      "source": [
        "# Process Memory Card Type"
      ]
    },
    {
      "cell_type": "code",
      "execution_count": 45,
      "metadata": {},
      "outputs": [
        {
          "data": {
            "text/plain": [
              "Memory Card Type\n",
              "Shared with SIM slot    691\n",
              "Dedicated slot          526\n",
              "Not supported           460\n",
              "Name: count, dtype: int64"
            ]
          },
          "execution_count": 45,
          "metadata": {},
          "output_type": "execute_result"
        }
      ],
      "source": [
        "df[\"Memory Card Type\"].value_counts()"
      ]
    },
    {
      "cell_type": "markdown",
      "metadata": {},
      "source": [
        "The 'Memory Card Type' feature lists whether phones have a dedicated slot for a memory card, a slot shared with the SIM, or do not support a memory card. This categorical variable can be encoded as an ordinal feature based on typical use cases, we rank 'Dedicated slot' highest because it allows users to expand their storage without sacrificing the dual SIM functionality, 'Shared with SIM slot' as intermediate, and 'Not supported' as the least desirable."
      ]
    },
    {
      "cell_type": "code",
      "execution_count": 46,
      "metadata": {},
      "outputs": [],
      "source": [
        "ordinal_mapping = {\n",
        "    'Dedicated slot': 2,\n",
        "    'Shared with SIM slot': 1,\n",
        "    'Not supported': 0\n",
        "}\n",
        "\n",
        "# Apply the ordinal encoding\n",
        "df['Memory Card Type Ordinal'] = df['Memory Card Type'].map(ordinal_mapping)\n"
      ]
    },
    {
      "cell_type": "code",
      "execution_count": 47,
      "metadata": {},
      "outputs": [],
      "source": [
        "df.drop(columns = \"Memory Card Type\", inplace = True)"
      ]
    },
    {
      "cell_type": "code",
      "execution_count": 48,
      "metadata": {},
      "outputs": [
        {
          "data": {
            "text/html": [
              "<div>\n",
              "<style scoped>\n",
              "    .dataframe tbody tr th:only-of-type {\n",
              "        vertical-align: middle;\n",
              "    }\n",
              "\n",
              "    .dataframe tbody tr th {\n",
              "        vertical-align: top;\n",
              "    }\n",
              "\n",
              "    .dataframe thead th {\n",
              "        text-align: right;\n",
              "    }\n",
              "</style>\n",
              "<table border=\"1\" class=\"dataframe\">\n",
              "  <thead>\n",
              "    <tr style=\"text-align: right;\">\n",
              "      <th></th>\n",
              "      <th>Brand Name</th>\n",
              "      <th>Display Size</th>\n",
              "      <th>Display Resolution</th>\n",
              "      <th>Touch Screen</th>\n",
              "      <th>Screen Type</th>\n",
              "      <th>Rear Camera Quantity</th>\n",
              "      <th>Front Camera Quantity</th>\n",
              "      <th>Rear Camera Pixel</th>\n",
              "      <th>Front Camera Pixel</th>\n",
              "      <th>Battery Capacity(mAh)</th>\n",
              "      <th>...</th>\n",
              "      <th>Face Recognition</th>\n",
              "      <th>Rear-mounted</th>\n",
              "      <th>BAR</th>\n",
              "      <th>Flip</th>\n",
              "      <th>Rotatable</th>\n",
              "      <th>SLIDER</th>\n",
              "      <th>Watch</th>\n",
              "      <th>price_vnd</th>\n",
              "      <th>Material Score</th>\n",
              "      <th>Memory Card Type Ordinal</th>\n",
              "    </tr>\n",
              "  </thead>\n",
              "  <tbody>\n",
              "    <tr>\n",
              "      <th>0</th>\n",
              "      <td>TECNO</td>\n",
              "      <td>6.6‘’</td>\n",
              "      <td>1560x720</td>\n",
              "      <td>Yes</td>\n",
              "      <td>Other</td>\n",
              "      <td>2</td>\n",
              "      <td>1</td>\n",
              "      <td>13MP</td>\n",
              "      <td>5mp</td>\n",
              "      <td>5000mAh</td>\n",
              "      <td>...</td>\n",
              "      <td>1</td>\n",
              "      <td>0</td>\n",
              "      <td>1</td>\n",
              "      <td>0</td>\n",
              "      <td>0</td>\n",
              "      <td>0</td>\n",
              "      <td>0</td>\n",
              "      <td>6566240</td>\n",
              "      <td>NaN</td>\n",
              "      <td>NaN</td>\n",
              "    </tr>\n",
              "    <tr>\n",
              "      <th>1</th>\n",
              "      <td>FreeYond</td>\n",
              "      <td>6.52\"</td>\n",
              "      <td>1600x720</td>\n",
              "      <td>Yes</td>\n",
              "      <td>Water Drop Screen</td>\n",
              "      <td>2</td>\n",
              "      <td>1</td>\n",
              "      <td>13MP</td>\n",
              "      <td>8MP</td>\n",
              "      <td>5000</td>\n",
              "      <td>...</td>\n",
              "      <td>1</td>\n",
              "      <td>0</td>\n",
              "      <td>1</td>\n",
              "      <td>0</td>\n",
              "      <td>0</td>\n",
              "      <td>0</td>\n",
              "      <td>0</td>\n",
              "      <td>4979375</td>\n",
              "      <td>1.0</td>\n",
              "      <td>1.0</td>\n",
              "    </tr>\n",
              "    <tr>\n",
              "      <th>2</th>\n",
              "      <td>FreeYond</td>\n",
              "      <td>6.52\"</td>\n",
              "      <td>1600x720</td>\n",
              "      <td>Yes</td>\n",
              "      <td>Water Drop Screen</td>\n",
              "      <td>3</td>\n",
              "      <td>1</td>\n",
              "      <td>50MP,2MP,8MP</td>\n",
              "      <td>8MP</td>\n",
              "      <td>5000</td>\n",
              "      <td>...</td>\n",
              "      <td>1</td>\n",
              "      <td>0</td>\n",
              "      <td>1</td>\n",
              "      <td>0</td>\n",
              "      <td>0</td>\n",
              "      <td>0</td>\n",
              "      <td>0</td>\n",
              "      <td>7224031</td>\n",
              "      <td>4.0</td>\n",
              "      <td>1.0</td>\n",
              "    </tr>\n",
              "    <tr>\n",
              "      <th>3</th>\n",
              "      <td>Infinix</td>\n",
              "      <td>6.6‘’</td>\n",
              "      <td>1612x720</td>\n",
              "      <td>Yes</td>\n",
              "      <td>Water Drop Screen</td>\n",
              "      <td>2</td>\n",
              "      <td>1</td>\n",
              "      <td>13MP</td>\n",
              "      <td>5mp</td>\n",
              "      <td>5000</td>\n",
              "      <td>...</td>\n",
              "      <td>1</td>\n",
              "      <td>1</td>\n",
              "      <td>1</td>\n",
              "      <td>0</td>\n",
              "      <td>0</td>\n",
              "      <td>0</td>\n",
              "      <td>0</td>\n",
              "      <td>6729594</td>\n",
              "      <td>NaN</td>\n",
              "      <td>NaN</td>\n",
              "    </tr>\n",
              "    <tr>\n",
              "      <th>4</th>\n",
              "      <td>TECNO</td>\n",
              "      <td>6.6</td>\n",
              "      <td>1612x720</td>\n",
              "      <td>Yes</td>\n",
              "      <td>Water Drop Screen</td>\n",
              "      <td>2</td>\n",
              "      <td>1</td>\n",
              "      <td>50MP</td>\n",
              "      <td>8MP</td>\n",
              "      <td>5000</td>\n",
              "      <td>...</td>\n",
              "      <td>1</td>\n",
              "      <td>0</td>\n",
              "      <td>1</td>\n",
              "      <td>0</td>\n",
              "      <td>0</td>\n",
              "      <td>0</td>\n",
              "      <td>0</td>\n",
              "      <td>9269357</td>\n",
              "      <td>NaN</td>\n",
              "      <td>NaN</td>\n",
              "    </tr>\n",
              "    <tr>\n",
              "      <th>...</th>\n",
              "      <td>...</td>\n",
              "      <td>...</td>\n",
              "      <td>...</td>\n",
              "      <td>...</td>\n",
              "      <td>...</td>\n",
              "      <td>...</td>\n",
              "      <td>...</td>\n",
              "      <td>...</td>\n",
              "      <td>...</td>\n",
              "      <td>...</td>\n",
              "      <td>...</td>\n",
              "      <td>...</td>\n",
              "      <td>...</td>\n",
              "      <td>...</td>\n",
              "      <td>...</td>\n",
              "      <td>...</td>\n",
              "      <td>...</td>\n",
              "      <td>...</td>\n",
              "      <td>...</td>\n",
              "      <td>...</td>\n",
              "      <td>...</td>\n",
              "    </tr>\n",
              "    <tr>\n",
              "      <th>3148</th>\n",
              "      <td>MIUI</td>\n",
              "      <td>6.67</td>\n",
              "      <td>2400x1080</td>\n",
              "      <td>Yes</td>\n",
              "      <td>Fullview Display</td>\n",
              "      <td>3</td>\n",
              "      <td>1</td>\n",
              "      <td>≈108MP</td>\n",
              "      <td>16MP</td>\n",
              "      <td>5160</td>\n",
              "      <td>...</td>\n",
              "      <td>1</td>\n",
              "      <td>0</td>\n",
              "      <td>1</td>\n",
              "      <td>0</td>\n",
              "      <td>0</td>\n",
              "      <td>0</td>\n",
              "      <td>0</td>\n",
              "      <td>5060000</td>\n",
              "      <td>5.0</td>\n",
              "      <td>NaN</td>\n",
              "    </tr>\n",
              "    <tr>\n",
              "      <th>3149</th>\n",
              "      <td>BLACKVIEW</td>\n",
              "      <td>4.3 inch</td>\n",
              "      <td>1200 x 540</td>\n",
              "      <td>Yes</td>\n",
              "      <td>Normal Screen</td>\n",
              "      <td>2</td>\n",
              "      <td>1</td>\n",
              "      <td>48Mp</td>\n",
              "      <td>16MP</td>\n",
              "      <td>3600mAh</td>\n",
              "      <td>...</td>\n",
              "      <td>0</td>\n",
              "      <td>0</td>\n",
              "      <td>1</td>\n",
              "      <td>0</td>\n",
              "      <td>0</td>\n",
              "      <td>0</td>\n",
              "      <td>0</td>\n",
              "      <td>6347770</td>\n",
              "      <td>4.0</td>\n",
              "      <td>NaN</td>\n",
              "    </tr>\n",
              "    <tr>\n",
              "      <th>3150</th>\n",
              "      <td>HONOR</td>\n",
              "      <td>6.</td>\n",
              "      <td>2700x1224</td>\n",
              "      <td>Yes</td>\n",
              "      <td>Curved Screen</td>\n",
              "      <td>3</td>\n",
              "      <td>2</td>\n",
              "      <td>200MP</td>\n",
              "      <td>50MP</td>\n",
              "      <td>5000</td>\n",
              "      <td>...</td>\n",
              "      <td>1</td>\n",
              "      <td>0</td>\n",
              "      <td>1</td>\n",
              "      <td>0</td>\n",
              "      <td>0</td>\n",
              "      <td>0</td>\n",
              "      <td>0</td>\n",
              "      <td>14006080</td>\n",
              "      <td>5.0</td>\n",
              "      <td>0.0</td>\n",
              "    </tr>\n",
              "    <tr>\n",
              "      <th>3151</th>\n",
              "      <td>MIUI</td>\n",
              "      <td>6.67</td>\n",
              "      <td>2400x1080</td>\n",
              "      <td>Yes</td>\n",
              "      <td>Fullview Display</td>\n",
              "      <td>3</td>\n",
              "      <td>1</td>\n",
              "      <td>≈108MP</td>\n",
              "      <td>16MP</td>\n",
              "      <td>4500</td>\n",
              "      <td>...</td>\n",
              "      <td>1</td>\n",
              "      <td>0</td>\n",
              "      <td>1</td>\n",
              "      <td>0</td>\n",
              "      <td>0</td>\n",
              "      <td>0</td>\n",
              "      <td>0</td>\n",
              "      <td>4968000</td>\n",
              "      <td>5.0</td>\n",
              "      <td>1.0</td>\n",
              "    </tr>\n",
              "    <tr>\n",
              "      <th>3152</th>\n",
              "      <td>OPPO</td>\n",
              "      <td>7.12</td>\n",
              "      <td>2532x1170</td>\n",
              "      <td>Yes</td>\n",
              "      <td>Full Screen</td>\n",
              "      <td>3</td>\n",
              "      <td>1</td>\n",
              "      <td>50MP</td>\n",
              "      <td>32MP</td>\n",
              "      <td>4500</td>\n",
              "      <td>...</td>\n",
              "      <td>1</td>\n",
              "      <td>0</td>\n",
              "      <td>1</td>\n",
              "      <td>0</td>\n",
              "      <td>0</td>\n",
              "      <td>0</td>\n",
              "      <td>0</td>\n",
              "      <td>24587000</td>\n",
              "      <td>5.0</td>\n",
              "      <td>0.0</td>\n",
              "    </tr>\n",
              "  </tbody>\n",
              "</table>\n",
              "<p>3153 rows × 42 columns</p>\n",
              "</div>"
            ],
            "text/plain": [
              "     Brand Name Display Size Display Resolution Touch Screen  \\\n",
              "0         TECNO        6.6‘’           1560x720          Yes   \n",
              "1      FreeYond        6.52\"           1600x720          Yes   \n",
              "2      FreeYond        6.52\"           1600x720          Yes   \n",
              "3       Infinix        6.6‘’           1612x720          Yes   \n",
              "4         TECNO          6.6           1612x720          Yes   \n",
              "...         ...          ...                ...          ...   \n",
              "3148       MIUI         6.67          2400x1080          Yes   \n",
              "3149  BLACKVIEW     4.3 inch         1200 x 540          Yes   \n",
              "3150      HONOR           6.          2700x1224          Yes   \n",
              "3151       MIUI         6.67          2400x1080          Yes   \n",
              "3152       OPPO         7.12          2532x1170          Yes   \n",
              "\n",
              "            Screen Type Rear Camera Quantity Front Camera Quantity  \\\n",
              "0                 Other                    2                     1   \n",
              "1     Water Drop Screen                    2                     1   \n",
              "2     Water Drop Screen                    3                     1   \n",
              "3     Water Drop Screen                    2                     1   \n",
              "4     Water Drop Screen                    2                     1   \n",
              "...                 ...                  ...                   ...   \n",
              "3148   Fullview Display                    3                     1   \n",
              "3149      Normal Screen                    2                     1   \n",
              "3150      Curved Screen                    3                     2   \n",
              "3151   Fullview Display                    3                     1   \n",
              "3152        Full Screen                    3                     1   \n",
              "\n",
              "     Rear Camera Pixel Front Camera Pixel Battery Capacity(mAh)  ...  \\\n",
              "0                 13MP                5mp               5000mAh  ...   \n",
              "1                 13MP                8MP                  5000  ...   \n",
              "2         50MP,2MP,8MP                8MP                  5000  ...   \n",
              "3                 13MP                5mp                  5000  ...   \n",
              "4                 50MP                8MP                  5000  ...   \n",
              "...                ...                ...                   ...  ...   \n",
              "3148            ≈108MP               16MP                  5160  ...   \n",
              "3149              48Mp               16MP               3600mAh  ...   \n",
              "3150             200MP               50MP                  5000  ...   \n",
              "3151            ≈108MP               16MP                  4500  ...   \n",
              "3152              50MP               32MP                  4500  ...   \n",
              "\n",
              "     Face Recognition Rear-mounted BAR Flip Rotatable SLIDER Watch  price_vnd  \\\n",
              "0                   1            0   1    0         0      0     0    6566240   \n",
              "1                   1            0   1    0         0      0     0    4979375   \n",
              "2                   1            0   1    0         0      0     0    7224031   \n",
              "3                   1            1   1    0         0      0     0    6729594   \n",
              "4                   1            0   1    0         0      0     0    9269357   \n",
              "...               ...          ...  ..  ...       ...    ...   ...        ...   \n",
              "3148                1            0   1    0         0      0     0    5060000   \n",
              "3149                0            0   1    0         0      0     0    6347770   \n",
              "3150                1            0   1    0         0      0     0   14006080   \n",
              "3151                1            0   1    0         0      0     0    4968000   \n",
              "3152                1            0   1    0         0      0     0   24587000   \n",
              "\n",
              "     Material Score Memory Card Type Ordinal  \n",
              "0               NaN                      NaN  \n",
              "1               1.0                      1.0  \n",
              "2               4.0                      1.0  \n",
              "3               NaN                      NaN  \n",
              "4               NaN                      NaN  \n",
              "...             ...                      ...  \n",
              "3148            5.0                      NaN  \n",
              "3149            4.0                      NaN  \n",
              "3150            5.0                      0.0  \n",
              "3151            5.0                      1.0  \n",
              "3152            5.0                      0.0  \n",
              "\n",
              "[3153 rows x 42 columns]"
            ]
          },
          "execution_count": 48,
          "metadata": {},
          "output_type": "execute_result"
        }
      ],
      "source": [
        "df"
      ]
    },
    {
      "cell_type": "markdown",
      "metadata": {},
      "source": [
        "# Process Battery Capacity Range"
      ]
    },
    {
      "cell_type": "code",
      "execution_count": 49,
      "metadata": {},
      "outputs": [
        {
          "data": {
            "text/plain": [
              "Battery Capacity Range\n",
              "4500-5999 mAh    750\n",
              "<3000 mAh        391\n",
              "7500+ mAh        348\n",
              "3500-4499 mAh    280\n",
              "3000-3500 mAh    135\n",
              "6000-7499mAh     115\n",
              "4500mAh            1\n",
              "Name: count, dtype: int64"
            ]
          },
          "execution_count": 49,
          "metadata": {},
          "output_type": "execute_result"
        }
      ],
      "source": [
        "df['Battery Capacity Range'].value_counts()"
      ]
    },
    {
      "cell_type": "markdown",
      "metadata": {},
      "source": [
        "1. **Identify the Range**: Determine if a value represents a range (e.g., '4500-5999 mAh') or a single value (e.g., '4500mAh').\n",
        "2. **Extract the Maximum**: For ranges, extract the upper bound. For single values, the value itself is the maximum."
      ]
    },
    {
      "cell_type": "code",
      "execution_count": 50,
      "metadata": {},
      "outputs": [],
      "source": [
        "def extract_max(value):\n",
        "    # Handle NaN values\n",
        "    if pd.isna(value):\n",
        "        return None\n",
        "    try:\n",
        "        if '-' in value:\n",
        "            # If there's a range, split and take the second part\n",
        "            return int(value.split('-')[1].split(' ')[0])\n",
        "        elif '+' in value:\n",
        "            # If the value ends with '+', just remove it along with the ' mAh' part\n",
        "            return int(value.replace('+', '').split(' ')[0])\n",
        "        else:\n",
        "            # If it's a single value, just remove the 'mAh' and potential spaces\n",
        "            return int(value.replace('mAh', '').strip())\n",
        "    except ValueError:\n",
        "        # In case there are any values that don't match the expected pattern\n",
        "        return None\n",
        "\n",
        "# Apply the function to the 'Battery Capacity Range' column\n",
        "df['Max Battery Capacity'] = df['Battery Capacity Range'].apply(extract_max)"
      ]
    },
    {
      "cell_type": "code",
      "execution_count": 51,
      "metadata": {},
      "outputs": [],
      "source": [
        "df.drop(columns = \"Battery Capacity Range\", inplace = True)"
      ]
    },
    {
      "cell_type": "code",
      "execution_count": 52,
      "metadata": {},
      "outputs": [],
      "source": [
        "# df"
      ]
    },
    {
      "cell_type": "markdown",
      "metadata": {},
      "source": [
        "# Process Certification"
      ]
    },
    {
      "cell_type": "code",
      "execution_count": 53,
      "metadata": {},
      "outputs": [
        {
          "data": {
            "text/plain": [
              "Certification\n",
              "CE                      1300\n",
              "CE,FCC                   348\n",
              "NONE                     346\n",
              "CE,FCC,RoHS               98\n",
              "CE,RoHS                   71\n",
              "CE,RoHS,WEEE              60\n",
              "CE,FCC,RoHS,WEEE          56\n",
              "CE,EAC                    22\n",
              "FCC                       13\n",
              "CE,FCC,RoHS,pse            7\n",
              "CE,FCC,RoHS,UL             4\n",
              "RoHS                       3\n",
              "CE,RoHS,UL                 3\n",
              "CE,FCC,RoHS,pse,WEEE       2\n",
              "CE,RoHS,pse                2\n",
              "CE,FCC,pse                 2\n",
              "RoHS,CE                    2\n",
              "CE,EAC,FCC                 1\n",
              "CE,EAC,RoHS,pse            1\n",
              "FCC,RoHS                   1\n",
              "CE,FCC,WEEE                1\n",
              "WEEE                       1\n",
              "EAC                        1\n",
              "CE,RoHS,pse,WEEE           1\n",
              "Name: count, dtype: int64"
            ]
          },
          "execution_count": 53,
          "metadata": {},
          "output_type": "execute_result"
        }
      ],
      "source": [
        "df['Certification'].value_counts()"
      ]
    },
    {
      "cell_type": "code",
      "execution_count": 54,
      "metadata": {},
      "outputs": [
        {
          "data": {
            "text/plain": [
              "['Certification.joblib']"
            ]
          },
          "execution_count": 54,
          "metadata": {},
          "output_type": "execute_result"
        }
      ],
      "source": [
        "# Replace NaN values with a placeholder string, e.g., 'NONE'\n",
        "df['Certification'] = df['Certification'].fillna('NONE')\n",
        "\n",
        "# Split the 'Certification' column into lists if it's not NaN\n",
        "df['Certification'] = df['Certification'].apply(lambda x: x.split(',') if isinstance(x, str) else ['NONE'])\n",
        "\n",
        "# Initialize the MultiLabelBinarizer and fit it to the data\n",
        "mlb = MultiLabelBinarizer()\n",
        "certification_encoded = mlb.fit_transform(df['Certification'])\n",
        "\n",
        "# Create a DataFrame from the encoded certification types\n",
        "certification_df = pd.DataFrame(certification_encoded, columns=mlb.classes_)\n",
        "\n",
        "# Concatenate the new DataFrame to the original DataFrame\n",
        "df = pd.concat([df, certification_df], axis=1)\n",
        "\n",
        "# Save the MultiLabelBinarizer to a file for later use\n",
        "dump(mlb, 'Certification.joblib')"
      ]
    },
    {
      "cell_type": "markdown",
      "metadata": {},
      "source": [
        "# Process CPU Model"
      ]
    },
    {
      "cell_type": "code",
      "execution_count": 55,
      "metadata": {},
      "outputs": [
        {
          "data": {
            "text/plain": [
              "CPU Model\n",
              "MTK                     1056\n",
              "qualcomm                 503\n",
              "Other                    217\n",
              "Unisoc                   135\n",
              "APPLE                     73\n",
              "Samsung                   67\n",
              "Snapdragon 8 Gen 2        24\n",
              "Snapdragon® 8+ Gen 1      24\n",
              "huawei                    24\n",
              "Spredtrum                 16\n",
              "Snapdragon 778G           15\n",
              "Snapdragon 860             9\n",
              "Name: count, dtype: int64"
            ]
          },
          "execution_count": 55,
          "metadata": {},
          "output_type": "execute_result"
        }
      ],
      "source": [
        "df[\"CPU Model\"].value_counts()"
      ]
    },
    {
      "cell_type": "markdown",
      "metadata": {},
      "source": [
        "Assigning scores to CPU models typically requires detailed knowledge about the performance and capabilities of each processor. However, general knowledge can be used to assign a relative score based on the reputation and performance tier of each CPU family or model.\n",
        "\n",
        "Here's a general approach, based on common knowledge up to April 2023:\n",
        "\n",
        "High-End CPUs (Snapdragon 8 Series, Apple A-Series): These are typically the most powerful and would receive the highest scores.\n",
        "Mid-Range CPUs (Snapdragon 700 Series): These offer good performance for most tasks and would receive a moderately high score.\n",
        "Entry-Level CPUs (MediaTek, Spreadtrum, Unisoc): These are often found in budget devices and would receive a lower score.\n",
        "Other or Older Models: Without specific knowledge, it's safer to give a neutral or low score as they might represent a wide range of performance."
      ]
    },
    {
      "cell_type": "code",
      "execution_count": 56,
      "metadata": {},
      "outputs": [],
      "source": [
        "# Create a dictionary with CPU models as keys and their scores as values\n",
        "cpu_scores = {\n",
        "    'Snapdragon 8 Gen 2': 95,\n",
        "    'Snapdragon® 8+ Gen 1': 90,\n",
        "    'APPLE': 95,  # Assuming these are the latest models\n",
        "    'Samsung': 85,  # Assuming these refer to the latest Exynos models\n",
        "    'qualcomm': 80,  # This is a placeholder, scores would vary based on specific model\n",
        "    'MTK': 60,\n",
        "    'Unisoc': 40,\n",
        "    'huawei': 75,  # This would vary based on the specific model, placeholder score\n",
        "    'Spredtrum': 35,\n",
        "    'Snapdragon 778G': 75,\n",
        "    'Snapdragon 860': 80,\n",
        "    'Other': 50  # Placeholder score for other models\n",
        "}\n"
      ]
    },
    {
      "cell_type": "code",
      "execution_count": 57,
      "metadata": {},
      "outputs": [],
      "source": [
        "# Normalize the 'CPU Model' names to match the keys in the scoring dictionary\n",
        "df['CPU Score'] = df['CPU Model'].map(cpu_scores)"
      ]
    },
    {
      "cell_type": "code",
      "execution_count": 58,
      "metadata": {},
      "outputs": [],
      "source": [
        "df.drop(columns = \"CPU Model\", inplace = True)"
      ]
    },
    {
      "cell_type": "code",
      "execution_count": 59,
      "metadata": {},
      "outputs": [
        {
          "data": {
            "text/plain": [
              "CPU Score\n",
              "60.0    1056\n",
              "80.0     512\n",
              "50.0     217\n",
              "40.0     135\n",
              "95.0      97\n",
              "85.0      67\n",
              "75.0      39\n",
              "90.0      24\n",
              "35.0      16\n",
              "Name: count, dtype: int64"
            ]
          },
          "execution_count": 59,
          "metadata": {},
          "output_type": "execute_result"
        }
      ],
      "source": [
        "df[\"CPU Score\"].value_counts()"
      ]
    },
    {
      "cell_type": "markdown",
      "metadata": {},
      "source": [
        "# Process Cellular"
      ]
    },
    {
      "cell_type": "code",
      "execution_count": 60,
      "metadata": {},
      "outputs": [
        {
          "data": {
            "text/plain": [
              "Cellular\n",
              "3G,2G,4G                          840\n",
              "3G,2G,4G,5 G                      314\n",
              "4G                                134\n",
              "3G,2G                             128\n",
              "5 G                                76\n",
              "GSM,WCDMA,LTE                      63\n",
              "Other                              23\n",
              "GSM,CDMA,WCDMA,LTE                 12\n",
              "2G                                 11\n",
              "GSM,CDMA,WCDMA,CDMA2000,LTE        10\n",
              "GSM/WCDMA/LTE                      10\n",
              "GSM,WCDMA,LTE,5g                    9\n",
              "Other,3G,2G,4G                      9\n",
              "3G,4G,5 G                           8\n",
              "3G,4G                               8\n",
              "GSM,CDMA,WCDMA,LTE,5g               8\n",
              "GSM,CDMA,LTE                        7\n",
              "GSM,WCDMA                           6\n",
              "Other,3G,2G,4G,5 G                  6\n",
              "GSM,CDMA,WCDMA,CDMA2000,LTE,5g      5\n",
              "2G,3G,4G                            4\n",
              "5 G,3G,2G,4G                        4\n",
              "4G,5 G                              4\n",
              "GSM,CDMA,WCDMA                      4\n",
              "3G                                  3\n",
              "Other,3G,2G                         3\n",
              "2G,4G                               2\n",
              "4G,5 G,3G,2G                        2\n",
              "GSM,WCDMA,CDMA2000,LTE              2\n",
              "GSM/WCDMA                           2\n",
              "5 G,4G,3G,2G                        2\n",
              "LTE                                 2\n",
              "GSM,LTE,5g                          2\n",
              "2G,3G,4G,5 G                        1\n",
              "WCDMA                               1\n",
              "Other,2G                            1\n",
              "GSM,CDMA,WCDMA,CDMA2000             1\n",
              "4G,3G,5 G,2G                        1\n",
              "GSM,WCDMA,LTE,Other                 1\n",
              "GSM,CDMA,LTE,5g,Other               1\n",
              "2G,5 G,4G,3G                        1\n",
              "GSM,WCDMA,CDMA2000,LTE,5g           1\n",
              "Name: count, dtype: int64"
            ]
          },
          "execution_count": 60,
          "metadata": {},
          "output_type": "execute_result"
        }
      ],
      "source": [
        "df[\"Cellular\"].value_counts()"
      ]
    },
    {
      "cell_type": "code",
      "execution_count": 61,
      "metadata": {},
      "outputs": [
        {
          "data": {
            "text/plain": [
              "{'2G', '3G', '4G', '5G', 'CDMA', 'CDMA2000', 'GSM', 'LTE', 'OTHER', 'WCDMA'}"
            ]
          },
          "execution_count": 61,
          "metadata": {},
          "output_type": "execute_result"
        }
      ],
      "source": [
        "# Convert all entries in the 'Cellular' column to strings\n",
        "df['Cellular'] = df['Cellular'].astype(str)\n",
        "\n",
        "# Normalize the 'Cellular' column by replacing slashes and spaces with commas\n",
        "normalized_data = df['Cellular'].str.replace(\" \", \"\").str.replace('/', ',').str.upper()  # Convert to uppercase for consistency\n",
        "\n",
        "# Split each entry into a list of technologies\n",
        "technology_lists = normalized_data.str.split(',')\n",
        "\n",
        "# Flatten the list of technology lists into a single list of technologies\n",
        "flat_list = [tech for sublist in technology_lists for tech in sublist if tech != 'NAN']\n",
        "\n",
        "# Get unique technologies using a set\n",
        "unique_technologies = set(flat_list)\n",
        "\n",
        "unique_technologies"
      ]
    },
    {
      "cell_type": "code",
      "execution_count": 62,
      "metadata": {},
      "outputs": [],
      "source": [
        "def categorize_by_highest_tech(cellular_str):\n",
        "    cellular_list = cellular_str.split(',')\n",
        "    highest_tech = 'UNKNOWN'  # Default if no known tech is found\n",
        "    for tech in ['5G', '4G', 'LTE', '3G', 'CDMA2000', 'WCDMA', 'CDMA', '2G', 'GSM']:\n",
        "        if tech in cellular_list:\n",
        "            highest_tech = tech\n",
        "            break  # Stop at the highest technology found\n",
        "    return highest_tech"
      ]
    },
    {
      "cell_type": "code",
      "execution_count": 63,
      "metadata": {},
      "outputs": [],
      "source": [
        "df['Highest Technology'] = normalized_data.apply(categorize_by_highest_tech)"
      ]
    },
    {
      "cell_type": "code",
      "execution_count": 64,
      "metadata": {},
      "outputs": [],
      "source": [
        "df.drop(columns = \"Cellular\", inplace = True)"
      ]
    },
    {
      "cell_type": "markdown",
      "metadata": {},
      "source": [
        "# Brand Name column\n",
        "* Make them numeric"
      ]
    },
    {
      "cell_type": "code",
      "execution_count": 65,
      "metadata": {},
      "outputs": [
        {
          "data": {
            "text/plain": [
              "0       8.528240e+06\n",
              "1       8.528240e+06\n",
              "2       8.528240e+06\n",
              "3       8.528240e+06\n",
              "4       8.528240e+06\n",
              "            ...     \n",
              "3148    1.107545e+07\n",
              "3149    7.245341e+06\n",
              "3150    8.528240e+06\n",
              "3151    1.107545e+07\n",
              "3152    1.506254e+07\n",
              "Name: Brand Target Encoded, Length: 3153, dtype: float64"
            ]
          },
          "execution_count": 65,
          "metadata": {},
          "output_type": "execute_result"
        }
      ],
      "source": [
        "column_name = 'Brand Name'  # Replace with the actual column name\n",
        "\n",
        "threshold = 50\n",
        "\n",
        "value_counts = df[column_name].value_counts()\n",
        "\n",
        "# Get the values that have a frequency less than the threshold\n",
        "values_to_change = value_counts[value_counts < threshold].index\n",
        "\n",
        "# Change the values to \"others\"\n",
        "df.loc[df[column_name].isin(values_to_change), column_name] = \"others\"\n",
        "df[column_name] = df[column_name].str.lower()\n",
        "\n",
        "values_less_than_threshold = df[\"Brand Name\"].value_counts()\n",
        "# values_less_than_threshold = values_less_than_threshold[values_less_than_threshold < 50]\n",
        "values_less_than_threshold\n",
        "\n",
        "\n",
        "import category_encoders as ce\n",
        "\n",
        "# Assuming df['target'] is your target variable\n",
        "encoder = ce.TargetEncoder(cols=['Brand Name'])\n",
        "df['Brand Target Encoded'] = encoder.fit_transform(df['Brand Name'], df['price_vnd'])\n",
        "df['Brand Target Encoded']"
      ]
    },
    {
      "cell_type": "markdown",
      "metadata": {},
      "source": [
        "# Display Size column\n",
        "* We make the column numeric and remove redundant characters"
      ]
    },
    {
      "cell_type": "code",
      "execution_count": 66,
      "metadata": {},
      "outputs": [
        {
          "data": {
            "text/plain": [
              "0       6.60\n",
              "1       6.52\n",
              "2       6.52\n",
              "3       6.60\n",
              "4       6.60\n",
              "        ... \n",
              "3148    6.67\n",
              "3149    4.30\n",
              "3150     NaN\n",
              "3151    6.67\n",
              "3152    7.12\n",
              "Name: Display Size, Length: 3153, dtype: float64"
            ]
          },
          "execution_count": 66,
          "metadata": {},
          "output_type": "execute_result"
        }
      ],
      "source": [
        "column_name = 'Display Size'\n",
        "\n",
        "df[column_name] = df[column_name].astype(str)\n",
        "\n",
        "df[column_name] = df[column_name].apply(lambda x: re.findall(r'\\d+\\.\\d+', x)[0] if re.findall(r'\\d+\\.\\d+', x) else '')\n",
        "df[column_name] = pd.to_numeric(df[column_name], errors='coerce')\n",
        "df[column_name]"
      ]
    },
    {
      "cell_type": "markdown",
      "metadata": {},
      "source": [
        "# Display Resolution"
      ]
    },
    {
      "cell_type": "code",
      "execution_count": 67,
      "metadata": {},
      "outputs": [],
      "source": [
        "column_name = 'Display Resolution'\n",
        "\n",
        "pattern = r'(\\d+)(\\D+)(\\d+)'\n",
        "\n",
        "# Extract the two numbers from the string\n",
        "matches = df[column_name].apply(lambda x: re.findall(pattern, str(x)))\n",
        "\n",
        "# Extract the first and second numbers from each match\n",
        "length = matches.apply(lambda x: x[0][0] if len(x) > 0 else None)\n",
        "width = matches.apply(lambda x: x[0][2] if len(x) > 0 else None)\n",
        "df[\"Length of Resolution\"] = length\n",
        "df[\"Width of Resolution\"] = width"
      ]
    },
    {
      "cell_type": "markdown",
      "metadata": {},
      "source": [
        "# Touch Screen"
      ]
    },
    {
      "cell_type": "code",
      "execution_count": 68,
      "metadata": {},
      "outputs": [
        {
          "data": {
            "text/plain": [
              "0       1.0\n",
              "1       1.0\n",
              "2       1.0\n",
              "3       1.0\n",
              "4       1.0\n",
              "       ... \n",
              "3148    1.0\n",
              "3149    1.0\n",
              "3150    1.0\n",
              "3151    1.0\n",
              "3152    1.0\n",
              "Name: Touch Screen, Length: 3153, dtype: float64"
            ]
          },
          "execution_count": 68,
          "metadata": {},
          "output_type": "execute_result"
        }
      ],
      "source": [
        "column_name = \"Touch Screen\"\n",
        "df[column_name].nunique()\n",
        "df[column_name] = df[column_name].replace({'Yes': 1, 'No': 0})\n",
        "df[column_name]"
      ]
    },
    {
      "cell_type": "markdown",
      "metadata": {},
      "source": [
        "# Screen Type"
      ]
    },
    {
      "cell_type": "code",
      "execution_count": 69,
      "metadata": {},
      "outputs": [
        {
          "name": "stdout",
          "output_type": "stream",
          "text": [
            "10\n"
          ]
        }
      ],
      "source": [
        "column_name = \"Screen Type\"\n",
        "df[column_name].value_counts()\n",
        "screen = set()\n",
        "for entry in df[column_name]:\n",
        "    methods = entry.split(',')\n",
        "    screen.update(methods)\n",
        "print(len(screen))"
      ]
    },
    {
      "cell_type": "markdown",
      "metadata": {},
      "source": [
        "# Rear Camera Quantity"
      ]
    },
    {
      "cell_type": "code",
      "execution_count": 70,
      "metadata": {},
      "outputs": [
        {
          "data": {
            "text/plain": [
              "Rear Camera Quantity\n",
              "3    1317\n",
              "1     841\n",
              "2     683\n",
              "4     269\n",
              "0      25\n",
              "5      15\n",
              "6       3\n",
              "Name: count, dtype: int64"
            ]
          },
          "execution_count": 70,
          "metadata": {},
          "output_type": "execute_result"
        }
      ],
      "source": [
        "column_name = \"Rear Camera Quantity\"\n",
        "df[column_name] = df[column_name].replace('NONE', 0)\n",
        "df[column_name].value_counts()"
      ]
    },
    {
      "cell_type": "markdown",
      "metadata": {},
      "source": [
        "# Front Camera Quantity"
      ]
    },
    {
      "cell_type": "code",
      "execution_count": 71,
      "metadata": {},
      "outputs": [
        {
          "data": {
            "text/plain": [
              "Front Camera Quantity\n",
              "1    2922\n",
              "2     115\n",
              "0      81\n",
              "3      15\n",
              "6      14\n",
              "4       4\n",
              "5       2\n",
              "Name: count, dtype: int64"
            ]
          },
          "execution_count": 71,
          "metadata": {},
          "output_type": "execute_result"
        }
      ],
      "source": [
        "column_name = \"Front Camera Quantity\"\n",
        "df[column_name] = df[column_name].replace('NONE', 0)\n",
        "df[column_name] = df[column_name].replace('Other', 6)\n",
        "df[column_name].value_counts()"
      ]
    },
    {
      "cell_type": "markdown",
      "metadata": {},
      "source": [
        "# Rear Camera Pixel"
      ]
    },
    {
      "cell_type": "code",
      "execution_count": 72,
      "metadata": {},
      "outputs": [
        {
          "data": {
            "text/plain": [
              "0        13.0\n",
              "1        13.0\n",
              "2        50.0\n",
              "3        13.0\n",
              "4        50.0\n",
              "        ...  \n",
              "3148    108.0\n",
              "3149     48.0\n",
              "3150    200.0\n",
              "3151    108.0\n",
              "3152     50.0\n",
              "Name: Rear Camera Pixel, Length: 3153, dtype: float64"
            ]
          },
          "execution_count": 72,
          "metadata": {},
          "output_type": "execute_result"
        }
      ],
      "source": [
        "column_name = \"Rear Camera Pixel\"\n",
        "df[column_name].value_counts()\n",
        "\n",
        "pattern = r'\\d+'\n",
        "\n",
        "df[\"Rear Camera Pixel\"] = df[column_name].apply(lambda x: max([int(num) for num in re.findall(pattern, str(x))]) if re.findall(pattern, str(x)) else None)\n",
        "df[column_name]"
      ]
    },
    {
      "cell_type": "markdown",
      "metadata": {},
      "source": [
        "# Front Camera Pixel"
      ]
    },
    {
      "cell_type": "code",
      "execution_count": 73,
      "metadata": {},
      "outputs": [
        {
          "data": {
            "text/plain": [
              "0        5.0\n",
              "1        8.0\n",
              "2        8.0\n",
              "3        5.0\n",
              "4        8.0\n",
              "        ... \n",
              "3148    16.0\n",
              "3149    16.0\n",
              "3150    50.0\n",
              "3151    16.0\n",
              "3152    32.0\n",
              "Name: Front Camera Pixel, Length: 3153, dtype: float64"
            ]
          },
          "execution_count": 73,
          "metadata": {},
          "output_type": "execute_result"
        }
      ],
      "source": [
        "column_name = \"Front Camera Pixel\"\n",
        "df[column_name].value_counts()\n",
        "\n",
        "pattern = r'\\d+'\n",
        "\n",
        "df[column_name] = df[column_name].apply(lambda x: max([int(num) for num in re.findall(pattern, str(x))]) if re.findall(pattern, str(x)) else None)\n",
        "df[column_name]"
      ]
    },
    {
      "cell_type": "markdown",
      "metadata": {},
      "source": [
        "# Battery Capacity(mAh)"
      ]
    },
    {
      "cell_type": "code",
      "execution_count": 74,
      "metadata": {},
      "outputs": [
        {
          "data": {
            "text/plain": [
              "0       5000.0\n",
              "1       5000.0\n",
              "2       5000.0\n",
              "3       5000.0\n",
              "4       5000.0\n",
              "         ...  \n",
              "3148    5160.0\n",
              "3149    3600.0\n",
              "3150    5000.0\n",
              "3151    4500.0\n",
              "3152    4500.0\n",
              "Name: Battery Capacity(mAh), Length: 3153, dtype: float64"
            ]
          },
          "execution_count": 74,
          "metadata": {},
          "output_type": "execute_result"
        }
      ],
      "source": [
        "column_name = \"Battery Capacity(mAh)\"\n",
        "df[column_name].value_counts()\n",
        "pattern = r'\\d+'\n",
        "\n",
        "df[column_name] = df[column_name].apply(lambda x: max([int(num) for num in re.findall(pattern, str(x))]) if re.findall(pattern, str(x)) else None)\n",
        "df[column_name]"
      ]
    },
    {
      "cell_type": "markdown",
      "metadata": {},
      "source": [
        "# Battery Type"
      ]
    },
    {
      "cell_type": "code",
      "execution_count": 75,
      "metadata": {},
      "outputs": [],
      "source": [
        "column_name = \"Battery Type\"\n",
        "df[column_name].value_counts()\n",
        "df[column_name] = df[column_name].replace({'Detachable': 1, 'Not Detachable': 0})"
      ]
    },
    {
      "cell_type": "markdown",
      "metadata": {},
      "source": [
        "# Wireless Charging"
      ]
    },
    {
      "cell_type": "code",
      "execution_count": 76,
      "metadata": {},
      "outputs": [
        {
          "data": {
            "text/plain": [
              "Wireless Charging\n",
              "0    2656\n",
              "1     497\n",
              "Name: count, dtype: int64"
            ]
          },
          "execution_count": 76,
          "metadata": {},
          "output_type": "execute_result"
        }
      ],
      "source": [
        "column_name = \"Wireless Charging\"\n",
        "df[column_name] = df[column_name].str.lower()\n",
        "df[column_name] = df[column_name].replace({'yes': 1, 'no': 0, '10w wireless charging': 1})\n",
        "df[column_name].value_counts()"
      ]
    },
    {
      "cell_type": "markdown",
      "metadata": {},
      "source": [
        "# Fast Charging"
      ]
    },
    {
      "cell_type": "code",
      "execution_count": 77,
      "metadata": {},
      "outputs": [
        {
          "data": {
            "text/plain": [
              "0       1\n",
              "1       1\n",
              "2       1\n",
              "3       1\n",
              "4       1\n",
              "       ..\n",
              "3148    1\n",
              "3149    1\n",
              "3150    1\n",
              "3151    1\n",
              "3152    1\n",
              "Name: Fast Charging, Length: 3153, dtype: int32"
            ]
          },
          "execution_count": 77,
          "metadata": {},
          "output_type": "execute_result"
        }
      ],
      "source": [
        "column_name = \"Fast Charging\"\n",
        "df[column_name].value_counts()\n",
        "df[column_name] = np.where(df[column_name] == 'nonsupport', 0, 1)\n",
        "df[column_name]"
      ]
    },
    {
      "cell_type": "code",
      "execution_count": 78,
      "metadata": {},
      "outputs": [
        {
          "data": {
            "text/plain": [
              "Charging Power\n",
              "Other    1808\n",
              "18W       444\n",
              "33W       288\n",
              "67W       106\n",
              "20W        76\n",
              "65W        70\n",
              "120W       70\n",
              "66W        64\n",
              "100W       45\n",
              "30w        40\n",
              "22.5W      32\n",
              "80W        30\n",
              "40W        26\n",
              "44W        15\n",
              "150W       11\n",
              "50W         4\n",
              "125W        1\n",
              "200W        1\n",
              "Name: count, dtype: int64"
            ]
          },
          "execution_count": 78,
          "metadata": {},
          "output_type": "execute_result"
        }
      ],
      "source": [
        "column_name = \"Charging Power\"\n",
        "df[column_name].value_counts()"
      ]
    },
    {
      "cell_type": "code",
      "execution_count": 79,
      "metadata": {},
      "outputs": [
        {
          "data": {
            "text/plain": [
              "0       0\n",
              "1       0\n",
              "2       0\n",
              "3       1\n",
              "4       0\n",
              "       ..\n",
              "3148    0\n",
              "3149    0\n",
              "3150    0\n",
              "3151    0\n",
              "3152    0\n",
              "Name: Charging Interface Type, Length: 3153, dtype: int32"
            ]
          },
          "execution_count": 79,
          "metadata": {},
          "output_type": "execute_result"
        }
      ],
      "source": [
        "column_name = \"Charging Interface Type\"\n",
        "df[column_name].value_counts()\n",
        "df[column_name] = np.where(df[column_name] == 'Type-C', 0, 1)\n",
        "df[column_name]"
      ]
    },
    {
      "cell_type": "markdown",
      "metadata": {},
      "source": [
        "# 3.5mm Headphone Port"
      ]
    },
    {
      "cell_type": "code",
      "execution_count": 80,
      "metadata": {},
      "outputs": [
        {
          "data": {
            "text/plain": [
              "3.5mm Headphone Port\n",
              "1    1685\n",
              "0    1468\n",
              "Name: count, dtype: int64"
            ]
          },
          "execution_count": 80,
          "metadata": {},
          "output_type": "execute_result"
        }
      ],
      "source": [
        "column_name = \"3.5mm Headphone Port\"\n",
        "df[column_name].value_counts()\n",
        "df[column_name] = df[column_name].replace({'YES': 1, 'no': 0})\n",
        "df[column_name].value_counts()"
      ]
    },
    {
      "cell_type": "code",
      "execution_count": 81,
      "metadata": {},
      "outputs": [],
      "source": [
        "column_names = ['Charging Power', 'Display Resolution']\n",
        "\n",
        "df.drop(columns=column_names, inplace=True)"
      ]
    },
    {
      "cell_type": "code",
      "execution_count": 82,
      "metadata": {},
      "outputs": [
        {
          "data": {
            "text/html": [
              "<div>\n",
              "<style scoped>\n",
              "    .dataframe tbody tr th:only-of-type {\n",
              "        vertical-align: middle;\n",
              "    }\n",
              "\n",
              "    .dataframe tbody tr th {\n",
              "        vertical-align: top;\n",
              "    }\n",
              "\n",
              "    .dataframe thead th {\n",
              "        text-align: right;\n",
              "    }\n",
              "</style>\n",
              "<table border=\"1\" class=\"dataframe\">\n",
              "  <thead>\n",
              "    <tr style=\"text-align: right;\">\n",
              "      <th></th>\n",
              "      <th>Brand Name</th>\n",
              "      <th>Display Size</th>\n",
              "      <th>Touch Screen</th>\n",
              "      <th>Screen Type</th>\n",
              "      <th>Rear Camera Quantity</th>\n",
              "      <th>Front Camera Quantity</th>\n",
              "      <th>Rear Camera Pixel</th>\n",
              "      <th>Front Camera Pixel</th>\n",
              "      <th>Battery Capacity(mAh)</th>\n",
              "      <th>Battery Type</th>\n",
              "      <th>...</th>\n",
              "      <th>NONE</th>\n",
              "      <th>RoHS</th>\n",
              "      <th>UL</th>\n",
              "      <th>WEEE</th>\n",
              "      <th>pse</th>\n",
              "      <th>CPU Score</th>\n",
              "      <th>Highest Technology</th>\n",
              "      <th>Brand Target Encoded</th>\n",
              "      <th>Length of Resolution</th>\n",
              "      <th>Width of Resolution</th>\n",
              "    </tr>\n",
              "  </thead>\n",
              "  <tbody>\n",
              "    <tr>\n",
              "      <th>0</th>\n",
              "      <td>others</td>\n",
              "      <td>6.60</td>\n",
              "      <td>1.0</td>\n",
              "      <td>Other</td>\n",
              "      <td>2</td>\n",
              "      <td>1</td>\n",
              "      <td>13.0</td>\n",
              "      <td>5.0</td>\n",
              "      <td>5000.0</td>\n",
              "      <td>0</td>\n",
              "      <td>...</td>\n",
              "      <td>1</td>\n",
              "      <td>0</td>\n",
              "      <td>0</td>\n",
              "      <td>0</td>\n",
              "      <td>0</td>\n",
              "      <td>NaN</td>\n",
              "      <td>UNKNOWN</td>\n",
              "      <td>8.528240e+06</td>\n",
              "      <td>1560</td>\n",
              "      <td>720</td>\n",
              "    </tr>\n",
              "    <tr>\n",
              "      <th>1</th>\n",
              "      <td>others</td>\n",
              "      <td>6.52</td>\n",
              "      <td>1.0</td>\n",
              "      <td>Water Drop Screen</td>\n",
              "      <td>2</td>\n",
              "      <td>1</td>\n",
              "      <td>13.0</td>\n",
              "      <td>8.0</td>\n",
              "      <td>5000.0</td>\n",
              "      <td>0</td>\n",
              "      <td>...</td>\n",
              "      <td>0</td>\n",
              "      <td>0</td>\n",
              "      <td>0</td>\n",
              "      <td>0</td>\n",
              "      <td>0</td>\n",
              "      <td>NaN</td>\n",
              "      <td>UNKNOWN</td>\n",
              "      <td>8.528240e+06</td>\n",
              "      <td>1600</td>\n",
              "      <td>720</td>\n",
              "    </tr>\n",
              "    <tr>\n",
              "      <th>2</th>\n",
              "      <td>others</td>\n",
              "      <td>6.52</td>\n",
              "      <td>1.0</td>\n",
              "      <td>Water Drop Screen</td>\n",
              "      <td>3</td>\n",
              "      <td>1</td>\n",
              "      <td>50.0</td>\n",
              "      <td>8.0</td>\n",
              "      <td>5000.0</td>\n",
              "      <td>0</td>\n",
              "      <td>...</td>\n",
              "      <td>1</td>\n",
              "      <td>0</td>\n",
              "      <td>0</td>\n",
              "      <td>0</td>\n",
              "      <td>0</td>\n",
              "      <td>40.0</td>\n",
              "      <td>UNKNOWN</td>\n",
              "      <td>8.528240e+06</td>\n",
              "      <td>1600</td>\n",
              "      <td>720</td>\n",
              "    </tr>\n",
              "    <tr>\n",
              "      <th>3</th>\n",
              "      <td>others</td>\n",
              "      <td>6.60</td>\n",
              "      <td>1.0</td>\n",
              "      <td>Water Drop Screen</td>\n",
              "      <td>2</td>\n",
              "      <td>1</td>\n",
              "      <td>13.0</td>\n",
              "      <td>5.0</td>\n",
              "      <td>5000.0</td>\n",
              "      <td>0</td>\n",
              "      <td>...</td>\n",
              "      <td>1</td>\n",
              "      <td>0</td>\n",
              "      <td>0</td>\n",
              "      <td>0</td>\n",
              "      <td>0</td>\n",
              "      <td>NaN</td>\n",
              "      <td>UNKNOWN</td>\n",
              "      <td>8.528240e+06</td>\n",
              "      <td>1612</td>\n",
              "      <td>720</td>\n",
              "    </tr>\n",
              "    <tr>\n",
              "      <th>4</th>\n",
              "      <td>others</td>\n",
              "      <td>6.60</td>\n",
              "      <td>1.0</td>\n",
              "      <td>Water Drop Screen</td>\n",
              "      <td>2</td>\n",
              "      <td>1</td>\n",
              "      <td>50.0</td>\n",
              "      <td>8.0</td>\n",
              "      <td>5000.0</td>\n",
              "      <td>0</td>\n",
              "      <td>...</td>\n",
              "      <td>1</td>\n",
              "      <td>0</td>\n",
              "      <td>0</td>\n",
              "      <td>0</td>\n",
              "      <td>0</td>\n",
              "      <td>NaN</td>\n",
              "      <td>UNKNOWN</td>\n",
              "      <td>8.528240e+06</td>\n",
              "      <td>1612</td>\n",
              "      <td>720</td>\n",
              "    </tr>\n",
              "    <tr>\n",
              "      <th>...</th>\n",
              "      <td>...</td>\n",
              "      <td>...</td>\n",
              "      <td>...</td>\n",
              "      <td>...</td>\n",
              "      <td>...</td>\n",
              "      <td>...</td>\n",
              "      <td>...</td>\n",
              "      <td>...</td>\n",
              "      <td>...</td>\n",
              "      <td>...</td>\n",
              "      <td>...</td>\n",
              "      <td>...</td>\n",
              "      <td>...</td>\n",
              "      <td>...</td>\n",
              "      <td>...</td>\n",
              "      <td>...</td>\n",
              "      <td>...</td>\n",
              "      <td>...</td>\n",
              "      <td>...</td>\n",
              "      <td>...</td>\n",
              "      <td>...</td>\n",
              "    </tr>\n",
              "    <tr>\n",
              "      <th>3148</th>\n",
              "      <td>miui</td>\n",
              "      <td>6.67</td>\n",
              "      <td>1.0</td>\n",
              "      <td>Fullview Display</td>\n",
              "      <td>3</td>\n",
              "      <td>1</td>\n",
              "      <td>108.0</td>\n",
              "      <td>16.0</td>\n",
              "      <td>5160.0</td>\n",
              "      <td>0</td>\n",
              "      <td>...</td>\n",
              "      <td>1</td>\n",
              "      <td>0</td>\n",
              "      <td>0</td>\n",
              "      <td>0</td>\n",
              "      <td>0</td>\n",
              "      <td>60.0</td>\n",
              "      <td>UNKNOWN</td>\n",
              "      <td>1.107545e+07</td>\n",
              "      <td>2400</td>\n",
              "      <td>1080</td>\n",
              "    </tr>\n",
              "    <tr>\n",
              "      <th>3149</th>\n",
              "      <td>blackview</td>\n",
              "      <td>4.30</td>\n",
              "      <td>1.0</td>\n",
              "      <td>Normal Screen</td>\n",
              "      <td>2</td>\n",
              "      <td>1</td>\n",
              "      <td>48.0</td>\n",
              "      <td>16.0</td>\n",
              "      <td>3600.0</td>\n",
              "      <td>0</td>\n",
              "      <td>...</td>\n",
              "      <td>0</td>\n",
              "      <td>0</td>\n",
              "      <td>0</td>\n",
              "      <td>0</td>\n",
              "      <td>0</td>\n",
              "      <td>NaN</td>\n",
              "      <td>4G</td>\n",
              "      <td>7.245341e+06</td>\n",
              "      <td>1200</td>\n",
              "      <td>540</td>\n",
              "    </tr>\n",
              "    <tr>\n",
              "      <th>3150</th>\n",
              "      <td>others</td>\n",
              "      <td>NaN</td>\n",
              "      <td>1.0</td>\n",
              "      <td>Curved Screen</td>\n",
              "      <td>3</td>\n",
              "      <td>2</td>\n",
              "      <td>200.0</td>\n",
              "      <td>50.0</td>\n",
              "      <td>5000.0</td>\n",
              "      <td>0</td>\n",
              "      <td>...</td>\n",
              "      <td>1</td>\n",
              "      <td>0</td>\n",
              "      <td>0</td>\n",
              "      <td>0</td>\n",
              "      <td>0</td>\n",
              "      <td>NaN</td>\n",
              "      <td>UNKNOWN</td>\n",
              "      <td>8.528240e+06</td>\n",
              "      <td>2700</td>\n",
              "      <td>1224</td>\n",
              "    </tr>\n",
              "    <tr>\n",
              "      <th>3151</th>\n",
              "      <td>miui</td>\n",
              "      <td>6.67</td>\n",
              "      <td>1.0</td>\n",
              "      <td>Fullview Display</td>\n",
              "      <td>3</td>\n",
              "      <td>1</td>\n",
              "      <td>108.0</td>\n",
              "      <td>16.0</td>\n",
              "      <td>4500.0</td>\n",
              "      <td>0</td>\n",
              "      <td>...</td>\n",
              "      <td>0</td>\n",
              "      <td>0</td>\n",
              "      <td>0</td>\n",
              "      <td>0</td>\n",
              "      <td>0</td>\n",
              "      <td>60.0</td>\n",
              "      <td>UNKNOWN</td>\n",
              "      <td>1.107545e+07</td>\n",
              "      <td>2400</td>\n",
              "      <td>1080</td>\n",
              "    </tr>\n",
              "    <tr>\n",
              "      <th>3152</th>\n",
              "      <td>oppo</td>\n",
              "      <td>7.12</td>\n",
              "      <td>1.0</td>\n",
              "      <td>Full Screen</td>\n",
              "      <td>3</td>\n",
              "      <td>1</td>\n",
              "      <td>50.0</td>\n",
              "      <td>32.0</td>\n",
              "      <td>4500.0</td>\n",
              "      <td>0</td>\n",
              "      <td>...</td>\n",
              "      <td>0</td>\n",
              "      <td>0</td>\n",
              "      <td>0</td>\n",
              "      <td>0</td>\n",
              "      <td>0</td>\n",
              "      <td>90.0</td>\n",
              "      <td>5G</td>\n",
              "      <td>1.506254e+07</td>\n",
              "      <td>2532</td>\n",
              "      <td>1170</td>\n",
              "    </tr>\n",
              "  </tbody>\n",
              "</table>\n",
              "<p>3153 rows × 51 columns</p>\n",
              "</div>"
            ],
            "text/plain": [
              "     Brand Name  Display Size  Touch Screen        Screen Type  \\\n",
              "0        others          6.60           1.0              Other   \n",
              "1        others          6.52           1.0  Water Drop Screen   \n",
              "2        others          6.52           1.0  Water Drop Screen   \n",
              "3        others          6.60           1.0  Water Drop Screen   \n",
              "4        others          6.60           1.0  Water Drop Screen   \n",
              "...         ...           ...           ...                ...   \n",
              "3148       miui          6.67           1.0   Fullview Display   \n",
              "3149  blackview          4.30           1.0      Normal Screen   \n",
              "3150     others           NaN           1.0      Curved Screen   \n",
              "3151       miui          6.67           1.0   Fullview Display   \n",
              "3152       oppo          7.12           1.0        Full Screen   \n",
              "\n",
              "     Rear Camera Quantity Front Camera Quantity  Rear Camera Pixel  \\\n",
              "0                       2                     1               13.0   \n",
              "1                       2                     1               13.0   \n",
              "2                       3                     1               50.0   \n",
              "3                       2                     1               13.0   \n",
              "4                       2                     1               50.0   \n",
              "...                   ...                   ...                ...   \n",
              "3148                    3                     1              108.0   \n",
              "3149                    2                     1               48.0   \n",
              "3150                    3                     2              200.0   \n",
              "3151                    3                     1              108.0   \n",
              "3152                    3                     1               50.0   \n",
              "\n",
              "      Front Camera Pixel  Battery Capacity(mAh)  Battery Type  ...  NONE  \\\n",
              "0                    5.0                 5000.0             0  ...     1   \n",
              "1                    8.0                 5000.0             0  ...     0   \n",
              "2                    8.0                 5000.0             0  ...     1   \n",
              "3                    5.0                 5000.0             0  ...     1   \n",
              "4                    8.0                 5000.0             0  ...     1   \n",
              "...                  ...                    ...           ...  ...   ...   \n",
              "3148                16.0                 5160.0             0  ...     1   \n",
              "3149                16.0                 3600.0             0  ...     0   \n",
              "3150                50.0                 5000.0             0  ...     1   \n",
              "3151                16.0                 4500.0             0  ...     0   \n",
              "3152                32.0                 4500.0             0  ...     0   \n",
              "\n",
              "      RoHS  UL  WEEE pse  CPU Score Highest Technology Brand Target Encoded  \\\n",
              "0        0   0     0   0        NaN            UNKNOWN         8.528240e+06   \n",
              "1        0   0     0   0        NaN            UNKNOWN         8.528240e+06   \n",
              "2        0   0     0   0       40.0            UNKNOWN         8.528240e+06   \n",
              "3        0   0     0   0        NaN            UNKNOWN         8.528240e+06   \n",
              "4        0   0     0   0        NaN            UNKNOWN         8.528240e+06   \n",
              "...    ...  ..   ...  ..        ...                ...                  ...   \n",
              "3148     0   0     0   0       60.0            UNKNOWN         1.107545e+07   \n",
              "3149     0   0     0   0        NaN                 4G         7.245341e+06   \n",
              "3150     0   0     0   0        NaN            UNKNOWN         8.528240e+06   \n",
              "3151     0   0     0   0       60.0            UNKNOWN         1.107545e+07   \n",
              "3152     0   0     0   0       90.0                 5G         1.506254e+07   \n",
              "\n",
              "     Length of Resolution  Width of Resolution  \n",
              "0                    1560                  720  \n",
              "1                    1600                  720  \n",
              "2                    1600                  720  \n",
              "3                    1612                  720  \n",
              "4                    1612                  720  \n",
              "...                   ...                  ...  \n",
              "3148                 2400                 1080  \n",
              "3149                 1200                  540  \n",
              "3150                 2700                 1224  \n",
              "3151                 2400                 1080  \n",
              "3152                 2532                 1170  \n",
              "\n",
              "[3153 rows x 51 columns]"
            ]
          },
          "execution_count": 82,
          "metadata": {},
          "output_type": "execute_result"
        }
      ],
      "source": [
        "df"
      ]
    },
    {
      "cell_type": "code",
      "execution_count": 83,
      "metadata": {},
      "outputs": [
        {
          "data": {
            "text/plain": [
              "Index(['Brand Name', 'Display Size', 'Touch Screen', 'Screen Type',\n",
              "       'Rear Camera Quantity', 'Front Camera Quantity', 'Rear Camera Pixel',\n",
              "       'Front Camera Pixel', 'Battery Capacity(mAh)', 'Battery Type',\n",
              "       'Wireless Charging', 'Fast Charging', 'Charging Interface Type',\n",
              "       '3.5mm Headphone Port', 'NFC', 'Item Condition', 'Language', 'Origin',\n",
              "       'Certification', 'num_sim_cards', 'has_esim', 'is_android_os',\n",
              "       'In-Screen Fingerprint Recognition', 'Iris Recognition',\n",
              "       'Fingerprint Recognition', 'Front-mounted', 'Side-mounted',\n",
              "       'Face Recognition', 'Rear-mounted', 'BAR', 'Flip', 'Rotatable',\n",
              "       'SLIDER', 'Watch', 'price_vnd', 'Material Score',\n",
              "       'Memory Card Type Ordinal', 'Max Battery Capacity', 'CE', 'EAC', 'FCC',\n",
              "       'NONE', 'RoHS', 'UL', 'WEEE', 'pse', 'CPU Score', 'Highest Technology',\n",
              "       'Brand Target Encoded', 'Length of Resolution', 'Width of Resolution'],\n",
              "      dtype='object')"
            ]
          },
          "execution_count": 83,
          "metadata": {},
          "output_type": "execute_result"
        }
      ],
      "source": [
        "df.columns"
      ]
    },
    {
      "cell_type": "code",
      "execution_count": 84,
      "metadata": {},
      "outputs": [],
      "source": [
        "df.drop(columns = \"NONE\", inplace = True)\n",
        "df.drop(columns = \"Language\", inplace = True)\n",
        "df.drop(columns = \"Origin\", inplace = True)\n",
        "df.drop(columns = \"Certification\", inplace = True)\n",
        "# df.drop(columns = \"Brand Name\", inplace = True)"
      ]
    },
    {
      "cell_type": "markdown",
      "metadata": {},
      "source": [
        "Note:\n",
        "2. Screen Type -> 1 hot encoding\n",
        "3. Highest Technology -> 1 hot encoding"
      ]
    },
    {
      "cell_type": "markdown",
      "metadata": {},
      "source": [
        "# Process Screen Type"
      ]
    },
    {
      "cell_type": "code",
      "execution_count": 85,
      "metadata": {},
      "outputs": [
        {
          "data": {
            "text/plain": [
              "Screen Type\n",
              "Normal Screen                                     1275\n",
              "Water Drop Screen                                  592\n",
              "Full Screen                                        526\n",
              "Fullview Display                                   342\n",
              "Other                                              122\n",
              "Curved Screen                                       84\n",
              "Full Screen,Water Drop Screen                       66\n",
              "Folded Screen                                       28\n",
              "Flexible Screen                                     23\n",
              "Full Screen,Fullview Display                        21\n",
              "Curved Screen,Full Screen                           17\n",
              "Full Screen,Normal Screen                           16\n",
              "Other,Normal Screen                                 12\n",
              "Normal Screen,Water Drop Screen                      5\n",
              "Dual Screen                                          5\n",
              "Water Drop Screen,Fullview Display                   3\n",
              "Corning Gorilla Glass                                3\n",
              "Full Screen,Normal Screen,Dual Screen                2\n",
              "Folded Screen,Dual Screen                            2\n",
              "Full Screen,Normal Screen,Fullview Display           2\n",
              "Curved Screen,Normal Screen                          2\n",
              "Curved Screen,Flexible Screen,Fullview Display       1\n",
              "Curved Screen,Full Screen,Fullview Display           1\n",
              "Normal Screen,Dual Screen                            1\n",
              "Curved Screen,Folded Screen,Full Screen              1\n",
              "Dual Screen,Water Drop Screen                        1\n",
              "Name: count, dtype: int64"
            ]
          },
          "execution_count": 85,
          "metadata": {},
          "output_type": "execute_result"
        }
      ],
      "source": [
        "df[\"Screen Type\"].value_counts()"
      ]
    },
    {
      "cell_type": "markdown",
      "metadata": {},
      "source": [
        "To process the \"Screen Type\" feature which contains multiple types of screen technologies possibly combined in a single string (e.g., \"Full Screen,Water Drop Screen\"), we will:\n",
        "1. Normalize the strings by making sure they are consistent in terms of case and separator.\n",
        "2. Split the strings into individual screen types.\n",
        "3. Flatten the list to identify all unique screen types."
      ]
    },
    {
      "cell_type": "code",
      "execution_count": 86,
      "metadata": {},
      "outputs": [],
      "source": [
        "df['Screen Type'] = df['Screen Type'].str.replace(\" \", \"\").str.upper()\n",
        "\n",
        "# Step 2 and 3: Split the strings and flatten the list\n",
        "# Create an empty set to hold unique screen types\n",
        "unique_screen_types = set()\n",
        "\n",
        "# Iterate over each row and update the set\n",
        "for screen_types in df['Screen Type'].dropna():\n",
        "    # Split by the comma and add the resulting types to the set\n",
        "    unique_screen_types.update(screen_types.split(','))\n",
        "\n",
        "# Step 4: One-hot encode the screen types\n",
        "# For each unique screen type, create a new column in the DataFrame\n",
        "for screen_type in unique_screen_types:\n",
        "    column_name = 'ScreenType_' + screen_type\n",
        "    # Create a new column initialized with zeros\n",
        "    df[column_name] = 0\n",
        "    # Set the value to 1 where the screen type is mentioned\n",
        "    df[column_name] = df['Screen Type'].str.contains(screen_type).astype(int)\n"
      ]
    },
    {
      "cell_type": "code",
      "execution_count": 87,
      "metadata": {},
      "outputs": [],
      "source": [
        "df.drop(columns = \"Screen Type\", inplace = True)"
      ]
    },
    {
      "cell_type": "markdown",
      "metadata": {},
      "source": [
        "# Process highest encoding"
      ]
    },
    {
      "cell_type": "code",
      "execution_count": 88,
      "metadata": {},
      "outputs": [
        {
          "data": {
            "text/plain": [
              "Highest Technology\n",
              "UNKNOWN     1444\n",
              "4G           997\n",
              "5G           445\n",
              "3G           134\n",
              "LTE          107\n",
              "WCDMA         13\n",
              "2G            12\n",
              "CDMA2000       1\n",
              "Name: count, dtype: int64"
            ]
          },
          "execution_count": 88,
          "metadata": {},
          "output_type": "execute_result"
        }
      ],
      "source": [
        "df['Highest Technology'].value_counts()"
      ]
    },
    {
      "cell_type": "code",
      "execution_count": 89,
      "metadata": {},
      "outputs": [],
      "source": [
        "g_mapping = {'4G': 4, '5G': 5, '3G': 3, '2G': 2, 'LTE': 4, 'WCDMA': 3, 'CDMA2000': 3}"
      ]
    },
    {
      "cell_type": "code",
      "execution_count": 90,
      "metadata": {},
      "outputs": [],
      "source": [
        "df['Highest Technology'] = df['Highest Technology'].map(g_mapping).replace('UNKNOWN', np.nan)"
      ]
    },
    {
      "cell_type": "code",
      "execution_count": 91,
      "metadata": {},
      "outputs": [
        {
          "data": {
            "text/html": [
              "<div>\n",
              "<style scoped>\n",
              "    .dataframe tbody tr th:only-of-type {\n",
              "        vertical-align: middle;\n",
              "    }\n",
              "\n",
              "    .dataframe tbody tr th {\n",
              "        vertical-align: top;\n",
              "    }\n",
              "\n",
              "    .dataframe thead th {\n",
              "        text-align: right;\n",
              "    }\n",
              "</style>\n",
              "<table border=\"1\" class=\"dataframe\">\n",
              "  <thead>\n",
              "    <tr style=\"text-align: right;\">\n",
              "      <th></th>\n",
              "      <th>Brand Name</th>\n",
              "      <th>Display Size</th>\n",
              "      <th>Touch Screen</th>\n",
              "      <th>Rear Camera Quantity</th>\n",
              "      <th>Front Camera Quantity</th>\n",
              "      <th>Rear Camera Pixel</th>\n",
              "      <th>Front Camera Pixel</th>\n",
              "      <th>Battery Capacity(mAh)</th>\n",
              "      <th>Battery Type</th>\n",
              "      <th>Wireless Charging</th>\n",
              "      <th>...</th>\n",
              "      <th>ScreenType_OTHER</th>\n",
              "      <th>ScreenType_FLEXIBLESCREEN</th>\n",
              "      <th>ScreenType_FOLDEDSCREEN</th>\n",
              "      <th>ScreenType_NORMALSCREEN</th>\n",
              "      <th>ScreenType_WATERDROPSCREEN</th>\n",
              "      <th>ScreenType_CURVEDSCREEN</th>\n",
              "      <th>ScreenType_FULLVIEWDISPLAY</th>\n",
              "      <th>ScreenType_DUALSCREEN</th>\n",
              "      <th>ScreenType_CORNINGGORILLAGLASS</th>\n",
              "      <th>ScreenType_FULLSCREEN</th>\n",
              "    </tr>\n",
              "  </thead>\n",
              "  <tbody>\n",
              "    <tr>\n",
              "      <th>0</th>\n",
              "      <td>others</td>\n",
              "      <td>6.60</td>\n",
              "      <td>1.0</td>\n",
              "      <td>2</td>\n",
              "      <td>1</td>\n",
              "      <td>13.0</td>\n",
              "      <td>5.0</td>\n",
              "      <td>5000.0</td>\n",
              "      <td>0</td>\n",
              "      <td>0</td>\n",
              "      <td>...</td>\n",
              "      <td>1</td>\n",
              "      <td>0</td>\n",
              "      <td>0</td>\n",
              "      <td>0</td>\n",
              "      <td>0</td>\n",
              "      <td>0</td>\n",
              "      <td>0</td>\n",
              "      <td>0</td>\n",
              "      <td>0</td>\n",
              "      <td>0</td>\n",
              "    </tr>\n",
              "    <tr>\n",
              "      <th>1</th>\n",
              "      <td>others</td>\n",
              "      <td>6.52</td>\n",
              "      <td>1.0</td>\n",
              "      <td>2</td>\n",
              "      <td>1</td>\n",
              "      <td>13.0</td>\n",
              "      <td>8.0</td>\n",
              "      <td>5000.0</td>\n",
              "      <td>0</td>\n",
              "      <td>0</td>\n",
              "      <td>...</td>\n",
              "      <td>0</td>\n",
              "      <td>0</td>\n",
              "      <td>0</td>\n",
              "      <td>0</td>\n",
              "      <td>1</td>\n",
              "      <td>0</td>\n",
              "      <td>0</td>\n",
              "      <td>0</td>\n",
              "      <td>0</td>\n",
              "      <td>0</td>\n",
              "    </tr>\n",
              "    <tr>\n",
              "      <th>2</th>\n",
              "      <td>others</td>\n",
              "      <td>6.52</td>\n",
              "      <td>1.0</td>\n",
              "      <td>3</td>\n",
              "      <td>1</td>\n",
              "      <td>50.0</td>\n",
              "      <td>8.0</td>\n",
              "      <td>5000.0</td>\n",
              "      <td>0</td>\n",
              "      <td>0</td>\n",
              "      <td>...</td>\n",
              "      <td>0</td>\n",
              "      <td>0</td>\n",
              "      <td>0</td>\n",
              "      <td>0</td>\n",
              "      <td>1</td>\n",
              "      <td>0</td>\n",
              "      <td>0</td>\n",
              "      <td>0</td>\n",
              "      <td>0</td>\n",
              "      <td>0</td>\n",
              "    </tr>\n",
              "    <tr>\n",
              "      <th>3</th>\n",
              "      <td>others</td>\n",
              "      <td>6.60</td>\n",
              "      <td>1.0</td>\n",
              "      <td>2</td>\n",
              "      <td>1</td>\n",
              "      <td>13.0</td>\n",
              "      <td>5.0</td>\n",
              "      <td>5000.0</td>\n",
              "      <td>0</td>\n",
              "      <td>0</td>\n",
              "      <td>...</td>\n",
              "      <td>0</td>\n",
              "      <td>0</td>\n",
              "      <td>0</td>\n",
              "      <td>0</td>\n",
              "      <td>1</td>\n",
              "      <td>0</td>\n",
              "      <td>0</td>\n",
              "      <td>0</td>\n",
              "      <td>0</td>\n",
              "      <td>0</td>\n",
              "    </tr>\n",
              "    <tr>\n",
              "      <th>4</th>\n",
              "      <td>others</td>\n",
              "      <td>6.60</td>\n",
              "      <td>1.0</td>\n",
              "      <td>2</td>\n",
              "      <td>1</td>\n",
              "      <td>50.0</td>\n",
              "      <td>8.0</td>\n",
              "      <td>5000.0</td>\n",
              "      <td>0</td>\n",
              "      <td>0</td>\n",
              "      <td>...</td>\n",
              "      <td>0</td>\n",
              "      <td>0</td>\n",
              "      <td>0</td>\n",
              "      <td>0</td>\n",
              "      <td>1</td>\n",
              "      <td>0</td>\n",
              "      <td>0</td>\n",
              "      <td>0</td>\n",
              "      <td>0</td>\n",
              "      <td>0</td>\n",
              "    </tr>\n",
              "    <tr>\n",
              "      <th>...</th>\n",
              "      <td>...</td>\n",
              "      <td>...</td>\n",
              "      <td>...</td>\n",
              "      <td>...</td>\n",
              "      <td>...</td>\n",
              "      <td>...</td>\n",
              "      <td>...</td>\n",
              "      <td>...</td>\n",
              "      <td>...</td>\n",
              "      <td>...</td>\n",
              "      <td>...</td>\n",
              "      <td>...</td>\n",
              "      <td>...</td>\n",
              "      <td>...</td>\n",
              "      <td>...</td>\n",
              "      <td>...</td>\n",
              "      <td>...</td>\n",
              "      <td>...</td>\n",
              "      <td>...</td>\n",
              "      <td>...</td>\n",
              "      <td>...</td>\n",
              "    </tr>\n",
              "    <tr>\n",
              "      <th>3148</th>\n",
              "      <td>miui</td>\n",
              "      <td>6.67</td>\n",
              "      <td>1.0</td>\n",
              "      <td>3</td>\n",
              "      <td>1</td>\n",
              "      <td>108.0</td>\n",
              "      <td>16.0</td>\n",
              "      <td>5160.0</td>\n",
              "      <td>0</td>\n",
              "      <td>0</td>\n",
              "      <td>...</td>\n",
              "      <td>0</td>\n",
              "      <td>0</td>\n",
              "      <td>0</td>\n",
              "      <td>0</td>\n",
              "      <td>0</td>\n",
              "      <td>0</td>\n",
              "      <td>1</td>\n",
              "      <td>0</td>\n",
              "      <td>0</td>\n",
              "      <td>0</td>\n",
              "    </tr>\n",
              "    <tr>\n",
              "      <th>3149</th>\n",
              "      <td>blackview</td>\n",
              "      <td>4.30</td>\n",
              "      <td>1.0</td>\n",
              "      <td>2</td>\n",
              "      <td>1</td>\n",
              "      <td>48.0</td>\n",
              "      <td>16.0</td>\n",
              "      <td>3600.0</td>\n",
              "      <td>0</td>\n",
              "      <td>0</td>\n",
              "      <td>...</td>\n",
              "      <td>0</td>\n",
              "      <td>0</td>\n",
              "      <td>0</td>\n",
              "      <td>1</td>\n",
              "      <td>0</td>\n",
              "      <td>0</td>\n",
              "      <td>0</td>\n",
              "      <td>0</td>\n",
              "      <td>0</td>\n",
              "      <td>0</td>\n",
              "    </tr>\n",
              "    <tr>\n",
              "      <th>3150</th>\n",
              "      <td>others</td>\n",
              "      <td>NaN</td>\n",
              "      <td>1.0</td>\n",
              "      <td>3</td>\n",
              "      <td>2</td>\n",
              "      <td>200.0</td>\n",
              "      <td>50.0</td>\n",
              "      <td>5000.0</td>\n",
              "      <td>0</td>\n",
              "      <td>0</td>\n",
              "      <td>...</td>\n",
              "      <td>0</td>\n",
              "      <td>0</td>\n",
              "      <td>0</td>\n",
              "      <td>0</td>\n",
              "      <td>0</td>\n",
              "      <td>1</td>\n",
              "      <td>0</td>\n",
              "      <td>0</td>\n",
              "      <td>0</td>\n",
              "      <td>0</td>\n",
              "    </tr>\n",
              "    <tr>\n",
              "      <th>3151</th>\n",
              "      <td>miui</td>\n",
              "      <td>6.67</td>\n",
              "      <td>1.0</td>\n",
              "      <td>3</td>\n",
              "      <td>1</td>\n",
              "      <td>108.0</td>\n",
              "      <td>16.0</td>\n",
              "      <td>4500.0</td>\n",
              "      <td>0</td>\n",
              "      <td>0</td>\n",
              "      <td>...</td>\n",
              "      <td>0</td>\n",
              "      <td>0</td>\n",
              "      <td>0</td>\n",
              "      <td>0</td>\n",
              "      <td>0</td>\n",
              "      <td>0</td>\n",
              "      <td>1</td>\n",
              "      <td>0</td>\n",
              "      <td>0</td>\n",
              "      <td>0</td>\n",
              "    </tr>\n",
              "    <tr>\n",
              "      <th>3152</th>\n",
              "      <td>oppo</td>\n",
              "      <td>7.12</td>\n",
              "      <td>1.0</td>\n",
              "      <td>3</td>\n",
              "      <td>1</td>\n",
              "      <td>50.0</td>\n",
              "      <td>32.0</td>\n",
              "      <td>4500.0</td>\n",
              "      <td>0</td>\n",
              "      <td>0</td>\n",
              "      <td>...</td>\n",
              "      <td>0</td>\n",
              "      <td>0</td>\n",
              "      <td>0</td>\n",
              "      <td>0</td>\n",
              "      <td>0</td>\n",
              "      <td>0</td>\n",
              "      <td>0</td>\n",
              "      <td>0</td>\n",
              "      <td>0</td>\n",
              "      <td>1</td>\n",
              "    </tr>\n",
              "  </tbody>\n",
              "</table>\n",
              "<p>3153 rows × 56 columns</p>\n",
              "</div>"
            ],
            "text/plain": [
              "     Brand Name  Display Size  Touch Screen Rear Camera Quantity  \\\n",
              "0        others          6.60           1.0                    2   \n",
              "1        others          6.52           1.0                    2   \n",
              "2        others          6.52           1.0                    3   \n",
              "3        others          6.60           1.0                    2   \n",
              "4        others          6.60           1.0                    2   \n",
              "...         ...           ...           ...                  ...   \n",
              "3148       miui          6.67           1.0                    3   \n",
              "3149  blackview          4.30           1.0                    2   \n",
              "3150     others           NaN           1.0                    3   \n",
              "3151       miui          6.67           1.0                    3   \n",
              "3152       oppo          7.12           1.0                    3   \n",
              "\n",
              "     Front Camera Quantity  Rear Camera Pixel  Front Camera Pixel  \\\n",
              "0                        1               13.0                 5.0   \n",
              "1                        1               13.0                 8.0   \n",
              "2                        1               50.0                 8.0   \n",
              "3                        1               13.0                 5.0   \n",
              "4                        1               50.0                 8.0   \n",
              "...                    ...                ...                 ...   \n",
              "3148                     1              108.0                16.0   \n",
              "3149                     1               48.0                16.0   \n",
              "3150                     2              200.0                50.0   \n",
              "3151                     1              108.0                16.0   \n",
              "3152                     1               50.0                32.0   \n",
              "\n",
              "      Battery Capacity(mAh)  Battery Type  Wireless Charging  ...  \\\n",
              "0                    5000.0             0                  0  ...   \n",
              "1                    5000.0             0                  0  ...   \n",
              "2                    5000.0             0                  0  ...   \n",
              "3                    5000.0             0                  0  ...   \n",
              "4                    5000.0             0                  0  ...   \n",
              "...                     ...           ...                ...  ...   \n",
              "3148                 5160.0             0                  0  ...   \n",
              "3149                 3600.0             0                  0  ...   \n",
              "3150                 5000.0             0                  0  ...   \n",
              "3151                 4500.0             0                  0  ...   \n",
              "3152                 4500.0             0                  0  ...   \n",
              "\n",
              "      ScreenType_OTHER  ScreenType_FLEXIBLESCREEN  ScreenType_FOLDEDSCREEN  \\\n",
              "0                    1                          0                        0   \n",
              "1                    0                          0                        0   \n",
              "2                    0                          0                        0   \n",
              "3                    0                          0                        0   \n",
              "4                    0                          0                        0   \n",
              "...                ...                        ...                      ...   \n",
              "3148                 0                          0                        0   \n",
              "3149                 0                          0                        0   \n",
              "3150                 0                          0                        0   \n",
              "3151                 0                          0                        0   \n",
              "3152                 0                          0                        0   \n",
              "\n",
              "     ScreenType_NORMALSCREEN  ScreenType_WATERDROPSCREEN  \\\n",
              "0                          0                           0   \n",
              "1                          0                           1   \n",
              "2                          0                           1   \n",
              "3                          0                           1   \n",
              "4                          0                           1   \n",
              "...                      ...                         ...   \n",
              "3148                       0                           0   \n",
              "3149                       1                           0   \n",
              "3150                       0                           0   \n",
              "3151                       0                           0   \n",
              "3152                       0                           0   \n",
              "\n",
              "      ScreenType_CURVEDSCREEN  ScreenType_FULLVIEWDISPLAY  \\\n",
              "0                           0                           0   \n",
              "1                           0                           0   \n",
              "2                           0                           0   \n",
              "3                           0                           0   \n",
              "4                           0                           0   \n",
              "...                       ...                         ...   \n",
              "3148                        0                           1   \n",
              "3149                        0                           0   \n",
              "3150                        1                           0   \n",
              "3151                        0                           1   \n",
              "3152                        0                           0   \n",
              "\n",
              "      ScreenType_DUALSCREEN  ScreenType_CORNINGGORILLAGLASS  \\\n",
              "0                         0                               0   \n",
              "1                         0                               0   \n",
              "2                         0                               0   \n",
              "3                         0                               0   \n",
              "4                         0                               0   \n",
              "...                     ...                             ...   \n",
              "3148                      0                               0   \n",
              "3149                      0                               0   \n",
              "3150                      0                               0   \n",
              "3151                      0                               0   \n",
              "3152                      0                               0   \n",
              "\n",
              "      ScreenType_FULLSCREEN  \n",
              "0                         0  \n",
              "1                         0  \n",
              "2                         0  \n",
              "3                         0  \n",
              "4                         0  \n",
              "...                     ...  \n",
              "3148                      0  \n",
              "3149                      0  \n",
              "3150                      0  \n",
              "3151                      0  \n",
              "3152                      1  \n",
              "\n",
              "[3153 rows x 56 columns]"
            ]
          },
          "execution_count": 91,
          "metadata": {},
          "output_type": "execute_result"
        }
      ],
      "source": [
        "df"
      ]
    },
    {
      "cell_type": "code",
      "execution_count": 92,
      "metadata": {},
      "outputs": [],
      "source": [
        "df.to_csv(\"full_data_to_viz.csv\", index = False)"
      ]
    },
    {
      "cell_type": "code",
      "execution_count": null,
      "metadata": {},
      "outputs": [],
      "source": []
    }
  ],
  "metadata": {
    "colab": {
      "provenance": []
    },
    "kernelspec": {
      "display_name": "Python 3",
      "name": "python3"
    },
    "language_info": {
      "codemirror_mode": {
        "name": "ipython",
        "version": 3
      },
      "file_extension": ".py",
      "mimetype": "text/x-python",
      "name": "python",
      "nbconvert_exporter": "python",
      "pygments_lexer": "ipython3",
      "version": "3.11.3"
    }
  },
  "nbformat": 4,
  "nbformat_minor": 0
}
